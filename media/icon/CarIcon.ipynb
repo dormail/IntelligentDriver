{
 "cells": [
  {
   "cell_type": "markdown",
   "id": "6690552f-1fd9-4352-9edd-e8fdf09bc9e6",
   "metadata": {},
   "source": [
    "# Scatter Icons\n",
    "\n",
    "We **NEED** an icon for a car so I tried to something based on [this](https://petercbsmith.github.io/marker-tutorial.html)."
   ]
  },
  {
   "cell_type": "code",
   "execution_count": 20,
   "id": "8a97a82b-e9b3-44eb-8f64-d90de3a1787e",
   "metadata": {},
   "outputs": [],
   "source": [
    "import matplotlib.pyplot as plt\n",
    "from matplotlib.path import Path\n",
    "import numpy as np"
   ]
  },
  {
   "cell_type": "code",
   "execution_count": 75,
   "id": "e4d1e9a4-e6b7-4728-b742-257e30bde1f3",
   "metadata": {},
   "outputs": [
    {
     "data": {
      "text/plain": [
       "<matplotlib.collections.PathCollection at 0x7f86181fe650>"
      ]
     },
     "execution_count": 75,
     "metadata": {},
     "output_type": "execute_result"
    },
    {
     "data": {
      "image/png": "[encoded data removed]",
      "text/plain": [
       "<Figure size 432x288 with 1 Axes>"
      ]
     },
     "metadata": {
      "needs_background": "light"
     },
     "output_type": "display_data"
    }
   ],
   "source": [
    "verts = [\n",
    "    (-5,0), # lower left\n",
    "    (-4.8,1.5), # top left\n",
    "    (-2,1.5), # where the angle starts on the left\n",
    "    (-1,3), # upper end of the back window\n",
    "    (1,3), # upper end of the front window\n",
    "    (2,1.5), # lower end of the front window\n",
    "    (4.8,1.5),  # top right\n",
    "    (5,0),  # lower right\n",
    "    # tires\n",
    "    (4,0), # start of front tire\n",
    "    (3, -1), # lowest point of front tire\n",
    "    (2,0), # end of front tire\n",
    "    (-2,0), # start of back tire\n",
    "    (-3, -1), # lowest point of back tire\n",
    "    (-4,0), # end of back tire\n",
    "]\n",
    "\n",
    "codes = [\n",
    "    Path.MOVETO, #begin the figure in the lower right\n",
    "    Path.LINETO, #end curve in lower right\n",
    "    Path.LINETO, #end curve in lower right\n",
    "    Path.LINETO, #end curve in lower right\n",
    "    Path.LINETO, #end curve in lower right\n",
    "    Path.LINETO, #end curve in lower right\n",
    "    Path.LINETO, #end curve in lower right\n",
    "    Path.LINETO, #end curve in lower right\n",
    "    # tires\n",
    "    Path.LINETO, # line to the front of tire\n",
    "    Path.CURVE3, # start a 3 point curve for the first tire\n",
    "    Path.LINETO, # end fire tire\n",
    "    Path.LINETO, # connection between the tires\n",
    "    Path.CURVE3, # start a 3 point curve for the first tire\n",
    "    Path.LINETO, # line to the front of tire\n",
    "]\n",
    "\n",
    "path = Path(verts,codes)"
   ]
  },
  {
   "cell_type": "code",
   "execution_count": 89,
   "id": "650504a6-4d68-4334-9606-560bd126f209",
   "metadata": {},
   "outputs": [
    {
     "data": {
      "image/png": "[encoded data removed]",
      "text/plain": [
       "<Figure size 432x288 with 1 Axes>"
      ]
     },
     "metadata": {
      "needs_background": "light"
     },
     "output_type": "display_data"
    }
   ],
   "source": [
    "x = [-.5, 0.5, 0, .8]\n",
    "y = [0.25, 0.25, -.25, -.25]\n",
    "\n",
    "\n",
    "plt.scatter(x,y, marker=path, s=1000)\n",
    "plt.ylim(-.7,1)\n",
    "plt.xlim(-1, 1.3)\n",
    "\n",
    "plt.axis('off')\n",
    "\n",
    "plt.savefig('image.png', dpi=300)"
   ]
  }
 ],
 "metadata": {
  "kernelspec": {
   "display_name": "Python 3 (ipykernel)",
   "language": "python",
   "name": "python3"
  },
  "language_info": {
   "codemirror_mode": {
    "name": "ipython",
    "version": 3
   },
   "file_extension": ".py",
   "mimetype": "text/x-python",
   "name": "python",
   "nbconvert_exporter": "python",
   "pygments_lexer": "ipython3",
   "version": "3.10.4"
  }
 },
 "nbformat": 4,
 "nbformat_minor": 5
}
