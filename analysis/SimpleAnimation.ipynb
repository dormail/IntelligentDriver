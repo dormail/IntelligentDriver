{
 "cells": [
  {
   "cell_type": "code",
   "execution_count": 96,
   "id": "74cd7e4b-09ad-4964-be8c-3b0be28ea162",
   "metadata": {},
   "outputs": [
    {
     "name": "stdout",
     "output_type": "stream",
     "text": [
      "['pillow', 'ffmpeg', 'ffmpeg_file', 'imagemagick', 'imagemagick_file', 'html']\n"
     ]
    }
   ],
   "source": [
    "import numpy as np\n",
    "import pandas as pd\n",
    "import matplotlib.pyplot as plt\n",
    "import matplotlib.animation as animation\n",
    "print(animation.writers.list())"
   ]
  },
  {
   "cell_type": "code",
   "execution_count": 106,
   "id": "87e462f5-a037-4d8e-9553-92e77654c496",
   "metadata": {},
   "outputs": [],
   "source": [
    "df = pd.read_csv('../build/data/position.csv', index_col=False)\n",
    "data = df.to_numpy()\n",
    "\n",
    "t = data[:,0]\n",
    "location = data[:, 1:]"
   ]
  },
  {
   "cell_type": "code",
   "execution_count": 107,
   "id": "a15deb85-039a-4a56-a62b-fdfd52c94f1b",
   "metadata": {},
   "outputs": [],
   "source": [
    "car_num = location.shape[1]"
   ]
  },
  {
   "cell_type": "code",
   "execution_count": 108,
   "id": "d46a0b7c-16f9-414f-8e64-7b220011bace",
   "metadata": {},
   "outputs": [
    {
     "data": {
      "text/plain": [
       "901"
      ]
     },
     "execution_count": 108,
     "metadata": {},
     "output_type": "execute_result"
    }
   ],
   "source": [
    "len(t)"
   ]
  },
  {
   "cell_type": "code",
   "execution_count": 109,
   "id": "9b4703de-68cd-4082-a895-ffd7a7d40431",
   "metadata": {
    "tags": []
   },
   "outputs": [
    {
     "name": "stdout",
     "output_type": "stream",
     "text": [
      "<class 'matplotlib.lines.Line2D'>\n"
     ]
    },
    {
     "data": {
      "image/png": "[encoded data removed]",
      "text/plain": [
       "<Figure size 600x600 with 1 Axes>"
      ]
     },
     "metadata": {
      "needs_background": "light"
     },
     "output_type": "display_data"
    }
   ],
   "source": [
    "# First set up the figure, the axis, and the plot element we want to animate\n",
    "fig, ax = plt.subplots(figsize=(6,6), dpi=100)\n",
    "\n",
    "ax.set_xlim(( 0, 1000))\n",
    "ax.set_ylim((0, 2))\n",
    "scat = ax.scatter([], [])\n",
    "\n",
    "print(type(line))\n",
    "# initialization function: plot the background of each frame\n",
    "def init():\n",
    "    scat.set_offsets([0,0])\n",
    "    return (scat,)\n",
    "\n",
    "# animation function. This is called sequentially\n",
    "def animate(i):\n",
    "    x = location[i,:]\n",
    "    y = np.ones(car_num)\n",
    "    plot_data = np.array([x,y])\n",
    "    plot_data = np.transpose(plot_data)\n",
    "    \n",
    "    scat.set_offsets(plot_data)\n",
    "    return (scat,)\n",
    "\n",
    "\n",
    "# call the animator. blit=True means only re-draw the parts that have changed so that the animations display much more quickly.\n",
    "anim = animation.FuncAnimation(fig, animate, init_func=init,\n",
    "                               frames=len(t), interval=30, blit=True)\n",
    "\n",
    "\n",
    "anim.save('animation.mp4', writer = 'ffmpeg')"
   ]
  }
 ],
 "metadata": {
  "kernelspec": {
   "display_name": "Python 3 (ipykernel)",
   "language": "python",
   "name": "python3"
  },
  "language_info": {
   "codemirror_mode": {
    "name": "ipython",
    "version": 3
   },
   "file_extension": ".py",
   "mimetype": "text/x-python",
   "name": "python",
   "nbconvert_exporter": "python",
   "pygments_lexer": "ipython3",
   "version": "3.10.4"
  }
 },
 "nbformat": 4,
 "nbformat_minor": 5
}
