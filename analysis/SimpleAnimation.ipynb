{
 "cells": [
  {
   "cell_type": "code",
   "execution_count": 1,
   "id": "74cd7e4b-09ad-4964-be8c-3b0be28ea162",
   "metadata": {},
   "outputs": [
    {
     "name": "stdout",
     "output_type": "stream",
     "text": [
      "['pillow', 'ffmpeg', 'ffmpeg_file', 'imagemagick', 'imagemagick_file', 'html']\n"
     ]
    }
   ],
   "source": [
    "import numpy as np\n",
    "import pandas as pd\n",
    "import matplotlib.pyplot as plt\n",
    "import matplotlib.animation as animation\n",
    "print(animation.writers.list())"
   ]
  },
  {
   "cell_type": "code",
   "execution_count": 57,
   "id": "87e462f5-a037-4d8e-9553-92e77654c496",
   "metadata": {
    "tags": []
   },
   "outputs": [
    {
     "data": {
      "image/png": "[encoded data removed]",
      "text/plain": [
       "<Figure size 600x600 with 1 Axes>"
      ]
     },
     "metadata": {
      "needs_background": "light"
     },
     "output_type": "display_data"
    }
   ],
   "source": [
    "# single lane animation\n",
    "df = pd.read_csv('../build/data/position.csv', index_col=False)\n",
    "data = df.to_numpy()\n",
    "\n",
    "t = data[:,0]\n",
    "location = data[:, 1:]\n",
    "\n",
    "car_num = location.shape[1]\n",
    "\n",
    "# First set up the figure, the axis, and the plot element we want to animate\n",
    "fig, ax = plt.subplots(figsize=(6,6), dpi=100)\n",
    "\n",
    "ax.set_xlim(( 0, 200))\n",
    "ax.set_ylim((0, 2))\n",
    "scat = ax.scatter([], [])\n",
    "\n",
    "# initialization function: plot the background of each frame\n",
    "def init():\n",
    "    scat.set_offsets([0,0])\n",
    "    return (scat,)\n",
    "\n",
    "# animation function. This is called sequentially\n",
    "def animate(i):\n",
    "    x = location[i,:]\n",
    "    y = np.ones(car_num)\n",
    "    plot_data = np.array([x,y])\n",
    "    plot_data = np.transpose(plot_data)\n",
    "    \n",
    "    scat.set_offsets(plot_data)\n",
    "    return (scat,)\n",
    "\n",
    "\n",
    "# call the animator. blit=True means only re-draw the parts that have changed so that the animations display much more quickly.\n",
    "anim = animation.FuncAnimation(fig, animate, init_func=init,\n",
    "                               frames=len(t), interval=30, blit=True)\n",
    "\n",
    "\n",
    "anim.save('single_lane.mp4', writer = 'ffmpeg')"
   ]
  },
  {
   "cell_type": "code",
   "execution_count": 8,
   "id": "a15deb85-039a-4a56-a62b-fdfd52c94f1b",
   "metadata": {},
   "outputs": [],
   "source": [
    "# multi lane\n",
    "df = pd.read_csv('../build/data/multi_lane.csv', index_col=False)\n",
    "data = df.to_numpy()\n",
    "\n",
    "t = data[:,0]\n",
    "car_data = data[:, 1:]\n",
    "location = car_data[:, ::2]\n",
    "lane = car_data[:, 1::2]"
   ]
  },
  {
   "cell_type": "code",
   "execution_count": 9,
   "id": "584d2a13-7317-40b7-aba3-505c90e22614",
   "metadata": {},
   "outputs": [
    {
     "data": {
      "text/plain": [
       "(2701, 200)"
      ]
     },
     "execution_count": 9,
     "metadata": {},
     "output_type": "execute_result"
    }
   ],
   "source": [
    "car_data.shape"
   ]
  },
  {
   "cell_type": "code",
   "execution_count": 10,
   "id": "090f323f-6200-4cd3-908b-7168b5437017",
   "metadata": {},
   "outputs": [
    {
     "data": {
      "text/plain": [
       "(2701, 100)"
      ]
     },
     "execution_count": 10,
     "metadata": {},
     "output_type": "execute_result"
    }
   ],
   "source": [
    "location.shape"
   ]
  },
  {
   "cell_type": "code",
   "execution_count": 11,
   "id": "b2f9623d-a00b-447f-ab20-face93c360fa",
   "metadata": {},
   "outputs": [
    {
     "data": {
      "text/plain": [
       "(2701, 100)"
      ]
     },
     "execution_count": 11,
     "metadata": {},
     "output_type": "execute_result"
    }
   ],
   "source": [
    "lane.shape"
   ]
  },
  {
   "cell_type": "code",
   "execution_count": 12,
   "id": "329d5114-a6df-455c-a496-bf6c817d3563",
   "metadata": {},
   "outputs": [
    {
     "data": {
      "text/plain": [
       "100"
      ]
     },
     "execution_count": 12,
     "metadata": {},
     "output_type": "execute_result"
    }
   ],
   "source": [
    "car_num = location.shape[1]\n",
    "car_num"
   ]
  },
  {
   "cell_type": "code",
   "execution_count": 13,
   "id": "8a20fb85-5ee7-4c7d-8a3f-e8f9154d58a2",
   "metadata": {},
   "outputs": [
    {
     "data": {
      "image/png": "[encoded data removed]",
      "text/plain": [
       "<Figure size 600x600 with 1 Axes>"
      ]
     },
     "metadata": {
      "needs_background": "light"
     },
     "output_type": "display_data"
    }
   ],
   "source": [
    "\n",
    "\n",
    "# First set up the figure, the axis, and the plot element we want to animate\n",
    "fig, ax = plt.subplots(figsize=(6,6), dpi=100)\n",
    "\n",
    "ax.set_xlim(( 0, 600))\n",
    "ax.set_ylim((0, 2))\n",
    "scat = ax.scatter([], [])\n",
    "\n",
    "# initialization function: plot the background of each frame\n",
    "def init():\n",
    "    scat.set_offsets([0,0])\n",
    "    return (scat,)\n",
    "\n",
    "# animation function. This is called sequentially\n",
    "def animate(i):\n",
    "    x = location[i,:]\n",
    "    y = lane[i, :]\n",
    "    plot_data = np.array([x,y])\n",
    "    plot_data = np.transpose(plot_data)\n",
    "    \n",
    "    scat.set_offsets(plot_data)\n",
    "    return (scat,)\n",
    "\n",
    "\n",
    "# call the animator. blit=True means only re-draw the parts that have changed so that the animations display much more quickly.\n",
    "anim = animation.FuncAnimation(fig, animate, init_func=init,\n",
    "                               frames=len(t), interval=30, blit=True)\n",
    "\n",
    "\n",
    "anim.save('multi_lane.mp4', writer = 'ffmpeg')"
   ]
  },
  {
   "cell_type": "code",
   "execution_count": null,
   "id": "cc0f9137-9087-46b4-9288-0bbb63d76388",
   "metadata": {},
   "outputs": [],
   "source": []
  }
 ],
 "metadata": {
  "kernelspec": {
   "display_name": "Python 3 (ipykernel)",
   "language": "python",
   "name": "python3"
  },
  "language_info": {
   "codemirror_mode": {
    "name": "ipython",
    "version": 3
   },
   "file_extension": ".py",
   "mimetype": "text/x-python",
   "name": "python",
   "nbconvert_exporter": "python",
   "pygments_lexer": "ipython3",
   "version": "3.10.4"
  }
 },
 "nbformat": 4,
 "nbformat_minor": 5
}
