{
 "cells": [
  {
   "cell_type": "code",
   "execution_count": 1,
   "id": "74cd7e4b-09ad-4964-be8c-3b0be28ea162",
   "metadata": {},
   "outputs": [
    {
     "name": "stdout",
     "output_type": "stream",
     "text": [
      "['pillow', 'ffmpeg', 'ffmpeg_file', 'imagemagick', 'imagemagick_file', 'html']\n"
     ]
    }
   ],
   "source": [
    "import numpy as np\n",
    "import pandas as pd\n",
    "import matplotlib.pyplot as plt\n",
    "import matplotlib.animation as animation\n",
    "print(animation.writers.list())"
   ]
  },
  {
   "cell_type": "code",
   "execution_count": 2,
   "id": "f5a6d781-319e-49ea-90c5-954dc2139275",
   "metadata": {},
   "outputs": [
    {
     "data": {
      "text/plain": [
       "'/home/mmaile/git/IntelligentDriver/analysis'"
      ]
     },
     "execution_count": 2,
     "metadata": {},
     "output_type": "execute_result"
    }
   ],
   "source": [
    "import os\n",
    "os.getcwd()"
   ]
  },
  {
   "cell_type": "code",
   "execution_count": 13,
   "id": "87e462f5-a037-4d8e-9553-92e77654c496",
   "metadata": {},
   "outputs": [
    {
     "data": {
      "text/html": [
       "<div>\n",
       "<style scoped>\n",
       "    .dataframe tbody tr th:only-of-type {\n",
       "        vertical-align: middle;\n",
       "    }\n",
       "\n",
       "    .dataframe tbody tr th {\n",
       "        vertical-align: top;\n",
       "    }\n",
       "\n",
       "    .dataframe thead th {\n",
       "        text-align: right;\n",
       "    }\n",
       "</style>\n",
       "<table border=\"1\" class=\"dataframe\">\n",
       "  <thead>\n",
       "    <tr style=\"text-align: right;\">\n",
       "      <th></th>\n",
       "      <th>t</th>\n",
       "      <th>x0</th>\n",
       "      <th>v0</th>\n",
       "      <th>x1</th>\n",
       "      <th>v1</th>\n",
       "      <th>x2</th>\n",
       "      <th>v2</th>\n",
       "      <th>x3</th>\n",
       "      <th>v3</th>\n",
       "      <th>x4</th>\n",
       "      <th>...</th>\n",
       "      <th>x5</th>\n",
       "      <th>v5</th>\n",
       "      <th>x6</th>\n",
       "      <th>v6</th>\n",
       "      <th>x7</th>\n",
       "      <th>v7</th>\n",
       "      <th>x8</th>\n",
       "      <th>v8</th>\n",
       "      <th>x9</th>\n",
       "      <th>v9</th>\n",
       "    </tr>\n",
       "  </thead>\n",
       "  <tbody>\n",
       "    <tr>\n",
       "      <th>0</th>\n",
       "      <td>0.000000</td>\n",
       "      <td>0.000000</td>\n",
       "      <td>10</td>\n",
       "      <td>100.000</td>\n",
       "      <td>10</td>\n",
       "      <td>200.000</td>\n",
       "      <td>10</td>\n",
       "      <td>300.000</td>\n",
       "      <td>10</td>\n",
       "      <td>400.000</td>\n",
       "      <td>...</td>\n",
       "      <td>500.000</td>\n",
       "      <td>10</td>\n",
       "      <td>600.000</td>\n",
       "      <td>10</td>\n",
       "      <td>700.000</td>\n",
       "      <td>10</td>\n",
       "      <td>800.000</td>\n",
       "      <td>10</td>\n",
       "      <td>900.000</td>\n",
       "      <td>10</td>\n",
       "    </tr>\n",
       "    <tr>\n",
       "      <th>1</th>\n",
       "      <td>0.033333</td>\n",
       "      <td>0.333333</td>\n",
       "      <td>10</td>\n",
       "      <td>100.333</td>\n",
       "      <td>10</td>\n",
       "      <td>200.333</td>\n",
       "      <td>10</td>\n",
       "      <td>300.333</td>\n",
       "      <td>10</td>\n",
       "      <td>400.333</td>\n",
       "      <td>...</td>\n",
       "      <td>500.333</td>\n",
       "      <td>10</td>\n",
       "      <td>600.333</td>\n",
       "      <td>10</td>\n",
       "      <td>700.333</td>\n",
       "      <td>10</td>\n",
       "      <td>800.333</td>\n",
       "      <td>10</td>\n",
       "      <td>900.333</td>\n",
       "      <td>10</td>\n",
       "    </tr>\n",
       "    <tr>\n",
       "      <th>2</th>\n",
       "      <td>0.066667</td>\n",
       "      <td>0.666667</td>\n",
       "      <td>10</td>\n",
       "      <td>100.667</td>\n",
       "      <td>10</td>\n",
       "      <td>200.667</td>\n",
       "      <td>10</td>\n",
       "      <td>300.667</td>\n",
       "      <td>10</td>\n",
       "      <td>400.667</td>\n",
       "      <td>...</td>\n",
       "      <td>500.667</td>\n",
       "      <td>10</td>\n",
       "      <td>600.667</td>\n",
       "      <td>10</td>\n",
       "      <td>700.667</td>\n",
       "      <td>10</td>\n",
       "      <td>800.667</td>\n",
       "      <td>10</td>\n",
       "      <td>900.667</td>\n",
       "      <td>10</td>\n",
       "    </tr>\n",
       "    <tr>\n",
       "      <th>3</th>\n",
       "      <td>0.100000</td>\n",
       "      <td>1.000000</td>\n",
       "      <td>10</td>\n",
       "      <td>101.000</td>\n",
       "      <td>10</td>\n",
       "      <td>201.000</td>\n",
       "      <td>10</td>\n",
       "      <td>301.000</td>\n",
       "      <td>10</td>\n",
       "      <td>401.000</td>\n",
       "      <td>...</td>\n",
       "      <td>501.000</td>\n",
       "      <td>10</td>\n",
       "      <td>601.000</td>\n",
       "      <td>10</td>\n",
       "      <td>701.000</td>\n",
       "      <td>10</td>\n",
       "      <td>801.000</td>\n",
       "      <td>10</td>\n",
       "      <td>901.000</td>\n",
       "      <td>10</td>\n",
       "    </tr>\n",
       "    <tr>\n",
       "      <th>4</th>\n",
       "      <td>0.133333</td>\n",
       "      <td>1.333330</td>\n",
       "      <td>10</td>\n",
       "      <td>101.333</td>\n",
       "      <td>10</td>\n",
       "      <td>201.333</td>\n",
       "      <td>10</td>\n",
       "      <td>301.333</td>\n",
       "      <td>10</td>\n",
       "      <td>401.333</td>\n",
       "      <td>...</td>\n",
       "      <td>501.333</td>\n",
       "      <td>10</td>\n",
       "      <td>601.333</td>\n",
       "      <td>10</td>\n",
       "      <td>701.333</td>\n",
       "      <td>10</td>\n",
       "      <td>801.333</td>\n",
       "      <td>10</td>\n",
       "      <td>901.333</td>\n",
       "      <td>10</td>\n",
       "    </tr>\n",
       "  </tbody>\n",
       "</table>\n",
       "<p>5 rows × 21 columns</p>\n",
       "</div>"
      ],
      "text/plain": [
       "          t        x0  v0       x1  v1       x2  v2       x3  v3       x4  \\\n",
       "0  0.000000  0.000000  10  100.000  10  200.000  10  300.000  10  400.000   \n",
       "1  0.033333  0.333333  10  100.333  10  200.333  10  300.333  10  400.333   \n",
       "2  0.066667  0.666667  10  100.667  10  200.667  10  300.667  10  400.667   \n",
       "3  0.100000  1.000000  10  101.000  10  201.000  10  301.000  10  401.000   \n",
       "4  0.133333  1.333330  10  101.333  10  201.333  10  301.333  10  401.333   \n",
       "\n",
       "   ...       x5  v5       x6  v6       x7  v7       x8  v8       x9  v9  \n",
       "0  ...  500.000  10  600.000  10  700.000  10  800.000  10  900.000  10  \n",
       "1  ...  500.333  10  600.333  10  700.333  10  800.333  10  900.333  10  \n",
       "2  ...  500.667  10  600.667  10  700.667  10  800.667  10  900.667  10  \n",
       "3  ...  501.000  10  601.000  10  701.000  10  801.000  10  901.000  10  \n",
       "4  ...  501.333  10  601.333  10  701.333  10  801.333  10  901.333  10  \n",
       "\n",
       "[5 rows x 21 columns]"
      ]
     },
     "execution_count": 13,
     "metadata": {},
     "output_type": "execute_result"
    }
   ],
   "source": [
    "df = pd.read_csv('../build/data/data.csv', index_col=False)\n",
    "df.head()"
   ]
  },
  {
   "cell_type": "code",
   "execution_count": 14,
   "id": "0ed305cc-0632-40f0-a6fb-a2ee8042e166",
   "metadata": {},
   "outputs": [],
   "source": [
    "x0 = df['x0']\n",
    "t = df['t']"
   ]
  },
  {
   "cell_type": "code",
   "execution_count": 32,
   "id": "850b2726-c2b4-43d3-a615-77d0528c4c8d",
   "metadata": {},
   "outputs": [
    {
     "data": {
      "text/plain": [
       "<matplotlib.collections.PathCollection at 0x7f1865e0e590>"
      ]
     },
     "execution_count": 32,
     "metadata": {},
     "output_type": "execute_result"
    },
    {
     "data": {
      "image/png": "[encoded data removed]",
      "text/plain": [
       "<Figure size 432x288 with 1 Axes>"
      ]
     },
     "metadata": {
      "needs_background": "light"
     },
     "output_type": "display_data"
    }
   ],
   "source": [
    "plt.scatter(t, x0)"
   ]
  },
  {
   "cell_type": "code",
   "execution_count": 22,
   "id": "d46a0b7c-16f9-414f-8e64-7b220011bace",
   "metadata": {},
   "outputs": [
    {
     "data": {
      "text/plain": [
       "300"
      ]
     },
     "execution_count": 22,
     "metadata": {},
     "output_type": "execute_result"
    }
   ],
   "source": [
    "len(t)"
   ]
  },
  {
   "cell_type": "code",
   "execution_count": 47,
   "id": "9b4703de-68cd-4082-a895-ffd7a7d40431",
   "metadata": {
    "tags": []
   },
   "outputs": [
    {
     "name": "stdout",
     "output_type": "stream",
     "text": [
      "<class 'matplotlib.lines.Line2D'>\n"
     ]
    },
    {
     "data": {
      "image/png": "[encoded data removed]",
      "text/plain": [
       "<Figure size 600x600 with 1 Axes>"
      ]
     },
     "metadata": {
      "needs_background": "light"
     },
     "output_type": "display_data"
    }
   ],
   "source": [
    "# First set up the figure, the axis, and the plot element we want to animate\n",
    "fig, ax = plt.subplots(figsize=(6,6), dpi=100)\n",
    "\n",
    "ax.set_xlim(( 0, 50))\n",
    "ax.set_ylim((0, 2))\n",
    "scat = ax.scatter([], [])\n",
    "\n",
    "print(type(line))\n",
    "# initialization function: plot the background of each frame\n",
    "def init():\n",
    "    scat.set_offsets([0,0])\n",
    "    return (scat,)\n",
    "\n",
    "# animation function. This is called sequentially\n",
    "def animate(i):\n",
    "    x = x0[i]\n",
    "    y = 1\n",
    "    \n",
    "    scat.set_offsets((x0[i],1))\n",
    "    return (scat,)\n",
    "\n",
    "\n",
    "# call the animator. blit=True means only re-draw the parts that have changed so that the animations display much more quickly.\n",
    "anim = animation.FuncAnimation(fig, animate, init_func=init,\n",
    "                               frames=len(t), interval=30, blit=True)\n",
    "\n",
    "\n",
    "anim.save('animation.mp4', writer = 'ffmpeg')"
   ]
  },
  {
   "cell_type": "code",
   "execution_count": 6,
   "id": "2ae93d16-721c-43c7-b8b9-e2fe3b6c0042",
   "metadata": {},
   "outputs": [
    {
     "name": "stderr",
     "output_type": "stream",
     "text": [
      "/tmp/ipykernel_9105/3206825577.py:8: FutureWarning: Passing (type, 1) or '1type' as a synonym of type is deprecated; in a future version of numpy, it will be understood as (type, (1,)) / '(1,)type'.\n",
      "  particles=np.zeros(n,dtype=[(\"position\", float , 2),\n"
     ]
    },
    {
     "data": {
      "image/png": "[encoded data removed]",
      "text/plain": [
       "<Figure size 504x504 with 1 Axes>"
      ]
     },
     "metadata": {
      "needs_background": "light"
     },
     "output_type": "display_data"
    }
   ],
   "source": [
    "import matplotlib.pyplot as plt\n",
    "from matplotlib.animation import FuncAnimation\n",
    "import numpy as np\n",
    "\n",
    "dt = 0.005\n",
    "n=20\n",
    "L = 1\n",
    "particles=np.zeros(n,dtype=[(\"position\", float , 2),\n",
    "                           (\"velocity\", float ,2),\n",
    "                           (\"force\", float ,2),\n",
    "                           (\"size\", float , 1)])\n",
    "\n",
    "particles[\"position\"]=np.random.uniform(0,L,(n,2));\n",
    "particles[\"velocity\"]=np.zeros((n,2));\n",
    "particles[\"size\"]=0.5*np.ones(n);\n",
    "\n",
    "fig = plt.figure(figsize=(7,7))\n",
    "ax = plt.axes(xlim=(0,L),ylim=(0,L))\n",
    "scatter=ax.scatter(particles[\"position\"][:,0], particles[\"position\"][:,1])\n",
    "\n",
    "def update(frame_number):\n",
    "   particles[\"force\"]=np.random.uniform(-2,2.,(n,2));\n",
    "   particles[\"velocity\"] = particles[\"velocity\"] + particles[\"force\"]*dt\n",
    "   particles[\"position\"] = particles[\"position\"] + particles[\"velocity\"]*dt\n",
    "\n",
    "   particles[\"position\"] = particles[\"position\"]%L\n",
    "   scatter.set_offsets(particles[\"position\"])\n",
    "   return scatter,\n",
    "\n",
    "anim = FuncAnimation(fig, update, interval=10)\n",
    "plt.show()"
   ]
  },
  {
   "cell_type": "code",
   "execution_count": null,
   "id": "8805c1b2-7049-4abd-8900-64dca56d8381",
   "metadata": {},
   "outputs": [],
   "source": []
  }
 ],
 "metadata": {
  "kernelspec": {
   "display_name": "Python 3 (ipykernel)",
   "language": "python",
   "name": "python3"
  },
  "language_info": {
   "codemirror_mode": {
    "name": "ipython",
    "version": 3
   },
   "file_extension": ".py",
   "mimetype": "text/x-python",
   "name": "python",
   "nbconvert_exporter": "python",
   "pygments_lexer": "ipython3",
   "version": "3.10.4"
  }
 },
 "nbformat": 4,
 "nbformat_minor": 5
}
