{
 "cells": [
  {
   "cell_type": "markdown",
   "id": "d82adb19-b3f9-4298-be2b-2d577d5bb130",
   "metadata": {
    "execution": {
     "iopub.execute_input": "2022-05-09T07:49:26.074616Z",
     "iopub.status.busy": "2022-05-09T07:49:26.073735Z",
     "iopub.status.idle": "2022-05-09T07:49:27.105300Z",
     "shell.execute_reply": "2022-05-09T07:49:27.104579Z",
     "shell.execute_reply.started": "2022-05-09T07:49:26.074560Z"
    }
   },
   "source": [
    "# RuntimeAnalysis.ipynb"
   ]
  },
  {
   "cell_type": "code",
   "execution_count": 1,
   "id": "d1078fcf-6496-448e-8b70-ff75285667b1",
   "metadata": {
    "execution": {
     "iopub.execute_input": "2022-05-14T15:13:33.041440Z",
     "iopub.status.busy": "2022-05-14T15:13:33.040782Z",
     "iopub.status.idle": "2022-05-14T15:13:33.884158Z",
     "shell.execute_reply": "2022-05-14T15:13:33.883571Z",
     "shell.execute_reply.started": "2022-05-14T15:13:33.041289Z"
    },
    "tags": []
   },
   "outputs": [],
   "source": [
    "import numpy as np\n",
    "import matplotlib.pyplot as plt\n",
    "\n",
    "from IDMInterface import IDMSimulation\n",
    "\n",
    "import time\n",
    "from scipy.optimize import curve_fit"
   ]
  },
  {
   "cell_type": "markdown",
   "id": "8d4694b8-5254-4efc-8137-eca9e8927587",
   "metadata": {
    "execution": {
     "iopub.execute_input": "2022-05-09T07:52:53.096370Z",
     "iopub.status.busy": "2022-05-09T07:52:53.095667Z",
     "iopub.status.idle": "2022-05-09T07:52:53.099304Z",
     "shell.execute_reply": "2022-05-09T07:52:53.098682Z",
     "shell.execute_reply.started": "2022-05-09T07:52:53.096351Z"
    }
   },
   "source": [
    "## Running the simulation and measuring the runtime"
   ]
  },
  {
   "cell_type": "code",
   "execution_count": 2,
   "id": "ee819283-4772-49eb-a136-8a4c48aca7c0",
   "metadata": {
    "execution": {
     "iopub.execute_input": "2022-05-14T15:13:33.885692Z",
     "iopub.status.busy": "2022-05-14T15:13:33.885110Z",
     "iopub.status.idle": "2022-05-14T15:25:00.753747Z",
     "shell.execute_reply": "2022-05-14T15:25:00.753203Z",
     "shell.execute_reply.started": "2022-05-14T15:13:33.885650Z"
    },
    "tags": []
   },
   "outputs": [
    {
     "name": "stdout",
     "output_type": "stream",
     "text": [
      "microscopicIDM --road-length 1500 --cars 10 --lanes 3 --step-width 0.03333333333333333 --integration-steps 18000 --output-csv /tmp/IDM/1500_10_3_0.03333333333333333_18000_EU.csv --EU \n",
      "microscopicIDM --road-length 1500 --cars 10 --lanes 3 --step-width 0.03333333333333333 --integration-steps 18000 --output-csv /tmp/IDM/1500_10_3_0.03333333333333333_18000.csv\n",
      "microscopicIDM --road-length 1500 --cars 20 --lanes 3 --step-width 0.03333333333333333 --integration-steps 18000 --output-csv /tmp/IDM/1500_20_3_0.03333333333333333_18000_EU.csv --EU \n",
      "microscopicIDM --road-length 1500 --cars 20 --lanes 3 --step-width 0.03333333333333333 --integration-steps 18000 --output-csv /tmp/IDM/1500_20_3_0.03333333333333333_18000.csv\n",
      "microscopicIDM --road-length 1500 --cars 30 --lanes 3 --step-width 0.03333333333333333 --integration-steps 18000 --output-csv /tmp/IDM/1500_30_3_0.03333333333333333_18000_EU.csv --EU \n",
      "microscopicIDM --road-length 1500 --cars 30 --lanes 3 --step-width 0.03333333333333333 --integration-steps 18000 --output-csv /tmp/IDM/1500_30_3_0.03333333333333333_18000.csv\n",
      "microscopicIDM --road-length 1500 --cars 40 --lanes 3 --step-width 0.03333333333333333 --integration-steps 18000 --output-csv /tmp/IDM/1500_40_3_0.03333333333333333_18000_EU.csv --EU \n",
      "microscopicIDM --road-length 1500 --cars 40 --lanes 3 --step-width 0.03333333333333333 --integration-steps 18000 --output-csv /tmp/IDM/1500_40_3_0.03333333333333333_18000.csv\n",
      "microscopicIDM --road-length 1500 --cars 50 --lanes 3 --step-width 0.03333333333333333 --integration-steps 18000 --output-csv /tmp/IDM/1500_50_3_0.03333333333333333_18000_EU.csv --EU \n",
      "microscopicIDM --road-length 1500 --cars 50 --lanes 3 --step-width 0.03333333333333333 --integration-steps 18000 --output-csv /tmp/IDM/1500_50_3_0.03333333333333333_18000.csv\n",
      "microscopicIDM --road-length 1500 --cars 60 --lanes 3 --step-width 0.03333333333333333 --integration-steps 18000 --output-csv /tmp/IDM/1500_60_3_0.03333333333333333_18000_EU.csv --EU \n",
      "microscopicIDM --road-length 1500 --cars 60 --lanes 3 --step-width 0.03333333333333333 --integration-steps 18000 --output-csv /tmp/IDM/1500_60_3_0.03333333333333333_18000.csv\n",
      "microscopicIDM --road-length 1500 --cars 70 --lanes 3 --step-width 0.03333333333333333 --integration-steps 18000 --output-csv /tmp/IDM/1500_70_3_0.03333333333333333_18000_EU.csv --EU \n",
      "microscopicIDM --road-length 1500 --cars 70 --lanes 3 --step-width 0.03333333333333333 --integration-steps 18000 --output-csv /tmp/IDM/1500_70_3_0.03333333333333333_18000.csv\n",
      "microscopicIDM --road-length 1500 --cars 80 --lanes 3 --step-width 0.03333333333333333 --integration-steps 18000 --output-csv /tmp/IDM/1500_80_3_0.03333333333333333_18000_EU.csv --EU \n",
      "microscopicIDM --road-length 1500 --cars 80 --lanes 3 --step-width 0.03333333333333333 --integration-steps 18000 --output-csv /tmp/IDM/1500_80_3_0.03333333333333333_18000.csv\n",
      "microscopicIDM --road-length 1500 --cars 90 --lanes 3 --step-width 0.03333333333333333 --integration-steps 18000 --output-csv /tmp/IDM/1500_90_3_0.03333333333333333_18000_EU.csv --EU \n",
      "microscopicIDM --road-length 1500 --cars 90 --lanes 3 --step-width 0.03333333333333333 --integration-steps 18000 --output-csv /tmp/IDM/1500_90_3_0.03333333333333333_18000.csv\n",
      "microscopicIDM --road-length 1500 --cars 100 --lanes 3 --step-width 0.03333333333333333 --integration-steps 18000 --output-csv /tmp/IDM/1500_100_3_0.03333333333333333_18000_EU.csv --EU \n",
      "microscopicIDM --road-length 1500 --cars 100 --lanes 3 --step-width 0.03333333333333333 --integration-steps 18000 --output-csv /tmp/IDM/1500_100_3_0.03333333333333333_18000.csv\n"
     ]
    }
   ],
   "source": [
    "#car_nums = [10,20,30,40,50,60,70,80,90,100,140,150,160]\n",
    "car_nums = [10,20,30,40,50,60,70,80,90,100]\n",
    "\n",
    "runtime_us = []\n",
    "runtime_eu = []\n",
    "\n",
    "length = 1500\n",
    "lanes = 3\n",
    "steps = 600*30\n",
    "for car_num in car_nums:\n",
    "    start = time.time()\n",
    "    fn, df = IDMSimulation(road_length=length,\n",
    "                      cars=car_num,\n",
    "                      lanes=3,\n",
    "                      step_width=1/30,                \n",
    "                      steps=steps,\n",
    "                      EU=True)\n",
    "    end = time.time()\n",
    "    T = end - start\n",
    "    runtime_eu.append(T)\n",
    "    start = time.time()\n",
    "    fn, df = IDMSimulation(road_length=length,\n",
    "                      cars=car_num,\n",
    "                      lanes=3,\n",
    "                      step_width=1/30,                \n",
    "                      steps=steps,\n",
    "                      EU=False)\n",
    "    end = time.time()\n",
    "    T = end - start\n",
    "    runtime_us.append(T)"
   ]
  },
  {
   "cell_type": "code",
   "execution_count": 3,
   "id": "7d65ec26-c1d8-471c-94ff-91c36fa1a10b",
   "metadata": {
    "execution": {
     "iopub.execute_input": "2022-05-14T15:25:00.755066Z",
     "iopub.status.busy": "2022-05-14T15:25:00.754949Z",
     "iopub.status.idle": "2022-05-14T15:25:00.763284Z",
     "shell.execute_reply": "2022-05-14T15:25:00.762645Z",
     "shell.execute_reply.started": "2022-05-14T15:25:00.755052Z"
    },
    "tags": []
   },
   "outputs": [
    {
     "name": "stdout",
     "output_type": "stream",
     "text": [
      "a_eu = 0.0005 +/- 3.401e-05\n",
      "N_eu = 2.8203 +/- 0.01614\n",
      "a_us = 0.0081 +/- 0.0008364\n",
      "N_us = 2.8203 +/- 0.0235\n"
     ]
    }
   ],
   "source": [
    "def simple_polynomial(x,a,N):\n",
    "    return a * x**N\n",
    "\n",
    "popt, pcov = curve_fit(simple_polynomial, car_nums, runtime_eu)\n",
    "a_eu, N_eu = popt\n",
    "err = np.sqrt(np.diag(pcov))\n",
    "a_eu_err, N_eu_err = err\n",
    "\n",
    "print(f'a_eu = {a_eu:.4f} +/- {a_eu_err:.4}')\n",
    "print(f'N_eu = {N_eu:.4f} +/- {N_eu_err:.4}')\n",
    "\n",
    "popt, pcov = curve_fit(simple_polynomial, car_nums, runtime_us)\n",
    "a_us, N_us = popt\n",
    "err = np.sqrt(np.diag(pcov))\n",
    "a_us_err, N_us_err = err\n",
    "\n",
    "print(f'a_us = {a_us:.4f} +/- {a_us_err:.4}')\n",
    "print(f'N_us = {N_eu:.4f} +/- {N_us_err:.4}')"
   ]
  },
  {
   "cell_type": "code",
   "execution_count": 4,
   "id": "525fa464-0391-49aa-8fd4-0b0cb16fa871",
   "metadata": {
    "execution": {
     "iopub.execute_input": "2022-05-14T15:25:00.764427Z",
     "iopub.status.busy": "2022-05-14T15:25:00.764327Z",
     "iopub.status.idle": "2022-05-14T15:25:01.221235Z",
     "shell.execute_reply": "2022-05-14T15:25:01.220719Z",
     "shell.execute_reply.started": "2022-05-14T15:25:00.764415Z"
    },
    "tags": []
   },
   "outputs": [
    {
     "data": {
      "image/png": "[encoded data removed]",
      "text/plain": [
       "<Figure size 432x288 with 1 Axes>"
      ]
     },
     "metadata": {
      "needs_background": "light"
     },
     "output_type": "display_data"
    }
   ],
   "source": [
    "plt.scatter(car_nums, runtime_eu, label='Measured runtime EU law',\n",
    "           marker='+')\n",
    "x = np.linspace(0, car_nums[-1]+5)\n",
    "plt.plot(x, simple_polynomial(x,a_eu,N_eu), color='k',\n",
    "        label=rf'EU: $a x^N$ with N = {N_eu:.4f}')\n",
    "\n",
    "plt.xlabel('Cars')\n",
    "plt.ylabel('Runtime in seconds')\n",
    "plt.legend()\n",
    "plt.tight_layout()\n",
    "plt.savefig('runtime_EU.pdf')"
   ]
  },
  {
   "cell_type": "code",
   "execution_count": 5,
   "id": "38e0eb7e-ca05-406b-baf5-4e5e0217f515",
   "metadata": {
    "execution": {
     "iopub.execute_input": "2022-05-14T15:25:01.222173Z",
     "iopub.status.busy": "2022-05-14T15:25:01.222077Z",
     "iopub.status.idle": "2022-05-14T15:25:01.427705Z",
     "shell.execute_reply": "2022-05-14T15:25:01.427145Z",
     "shell.execute_reply.started": "2022-05-14T15:25:01.222161Z"
    },
    "tags": []
   },
   "outputs": [
    {
     "data": {
      "image/png": "[encoded data removed]",
      "text/plain": [
       "<Figure size 432x288 with 1 Axes>"
      ]
     },
     "metadata": {
      "needs_background": "light"
     },
     "output_type": "display_data"
    }
   ],
   "source": [
    "plt.scatter(car_nums, runtime_us, label='Measured runtime US law',\n",
    "           marker='+')\n",
    "x = np.linspace(0, car_nums[-1]+5)\n",
    "plt.plot(x, simple_polynomial(x,a_us,N_us), color='k',\n",
    "        label=rf'EU: $a x^N$ with N = {N_us:.4f}')\n",
    "\n",
    "plt.xlabel('Cars')\n",
    "plt.ylabel('Runtime in seconds')\n",
    "plt.legend()\n",
    "plt.tight_layout()\n",
    "plt.savefig('runtime_US.pdf')"
   ]
  },
  {
   "cell_type": "code",
   "execution_count": null,
   "id": "87b18de5-21d4-4bae-a2c0-1370d3f1c2a9",
   "metadata": {},
   "outputs": [],
   "source": []
  }
 ],
 "metadata": {
  "kernelspec": {
   "display_name": "Python 3 (ipykernel)",
   "language": "python",
   "name": "python3"
  },
  "language_info": {
   "codemirror_mode": {
    "name": "ipython",
    "version": 3
   },
   "file_extension": ".py",
   "mimetype": "text/x-python",
   "name": "python",
   "nbconvert_exporter": "python",
   "pygments_lexer": "ipython3",
   "version": "3.10.4"
  }
 },
 "nbformat": 4,
 "nbformat_minor": 5
}
