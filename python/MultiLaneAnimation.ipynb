{
 "cells": [
  {
   "cell_type": "markdown",
   "id": "d82adb19-b3f9-4298-be2b-2d577d5bb130",
   "metadata": {
    "execution": {
     "iopub.execute_input": "2022-05-09T07:49:26.074616Z",
     "iopub.status.busy": "2022-05-09T07:49:26.073735Z",
     "iopub.status.idle": "2022-05-09T07:49:27.105300Z",
     "shell.execute_reply": "2022-05-09T07:49:27.104579Z",
     "shell.execute_reply.started": "2022-05-09T07:49:26.074560Z"
    }
   },
   "source": [
    "# MultiLaneAnimation.ipynb"
   ]
  },
  {
   "cell_type": "code",
   "execution_count": 1,
   "id": "d1078fcf-6496-448e-8b70-ff75285667b1",
   "metadata": {
    "execution": {
     "iopub.execute_input": "2022-05-16T09:44:24.719765Z",
     "iopub.status.busy": "2022-05-16T09:44:24.718462Z",
     "iopub.status.idle": "2022-05-16T09:44:26.339259Z",
     "shell.execute_reply": "2022-05-16T09:44:26.338490Z",
     "shell.execute_reply.started": "2022-05-16T09:44:24.719227Z"
    },
    "tags": []
   },
   "outputs": [],
   "source": [
    "import numpy as np\n",
    "import pandas as pd\n",
    "import matplotlib.pyplot as plt\n",
    "import matplotlib.animation as animation\n",
    "from matplotlib.path import Path\n",
    "from IDMInterface import IDMSimulation"
   ]
  },
  {
   "cell_type": "markdown",
   "id": "8d4694b8-5254-4efc-8137-eca9e8927587",
   "metadata": {
    "execution": {
     "iopub.execute_input": "2022-05-09T07:52:53.096370Z",
     "iopub.status.busy": "2022-05-09T07:52:53.095667Z",
     "iopub.status.idle": "2022-05-09T07:52:53.099304Z",
     "shell.execute_reply": "2022-05-09T07:52:53.098682Z",
     "shell.execute_reply.started": "2022-05-09T07:52:53.096351Z"
    }
   },
   "source": [
    "## Running the simulation and getting the data"
   ]
  },
  {
   "cell_type": "code",
   "execution_count": 2,
   "id": "ee819283-4772-49eb-a136-8a4c48aca7c0",
   "metadata": {
    "execution": {
     "iopub.execute_input": "2022-05-16T09:44:26.340483Z",
     "iopub.status.busy": "2022-05-16T09:44:26.340337Z",
     "iopub.status.idle": "2022-05-16T09:44:27.327245Z",
     "shell.execute_reply": "2022-05-16T09:44:27.326385Z",
     "shell.execute_reply.started": "2022-05-16T09:44:26.340463Z"
    },
    "tags": []
   },
   "outputs": [
    {
     "name": "stdout",
     "output_type": "stream",
     "text": [
      "microscopicIDM --road-length 500 --cars 15 --lanes 3 --step-width 0.03333333333333333 --integration-steps 3600 --output-csv /tmp/IDM/500_15_3_0.03333333333333333_3600_EU.csv --EU \n"
     ]
    }
   ],
   "source": [
    "cars = 15\n",
    "length = 500\n",
    "lanes = 3\n",
    "steps = 120*30\n",
    "fn, df = IDMSimulation(road_length=length,\n",
    "                      cars=cars,\n",
    "                      lanes=3,\n",
    "                      step_width=1/30,                \n",
    "                      steps=steps,\n",
    "                      EU=True)\n",
    "\n",
    "t = df['t']\n",
    "locations = np.zeros(shape=(steps, cars))\n",
    "lane = np.zeros(shape=(steps, cars))\n",
    "\n",
    "for car_index in range(0,cars):\n",
    "    for step in range(0, steps):\n",
    "        locations[step, car_index] = df['x' + str(car_index)][step]\n",
    "        lane[step, car_index] = df['l' + str(car_index)][step]"
   ]
  },
  {
   "cell_type": "markdown",
   "id": "a6dcb8e4-3bbd-442e-82af-391c8441ec90",
   "metadata": {
    "tags": []
   },
   "source": [
    "## Defining the Car Icon\n",
    "I was really bored"
   ]
  },
  {
   "cell_type": "code",
   "execution_count": 3,
   "id": "3a9aac98-dd61-4532-99a7-838fc4c69f65",
   "metadata": {
    "execution": {
     "iopub.execute_input": "2022-05-16T09:44:28.416944Z",
     "iopub.status.busy": "2022-05-16T09:44:28.416469Z",
     "iopub.status.idle": "2022-05-16T09:44:28.427498Z",
     "shell.execute_reply": "2022-05-16T09:44:28.426397Z",
     "shell.execute_reply.started": "2022-05-16T09:44:28.416903Z"
    },
    "tags": []
   },
   "outputs": [],
   "source": [
    "verts = [\n",
    "    (-5,0), # lower left\n",
    "    (-4.8,1.5), # top left\n",
    "    (-2,1.5), # where the angle starts on the left\n",
    "    (-1,3), # upper end of the back window\n",
    "    (1,3), # upper end of the front window\n",
    "    (2,1.5), # lower end of the front window\n",
    "    (4.8,1.5),  # top right\n",
    "    (5,0),  # lower right\n",
    "    # tires\n",
    "    (4,0), # start of front tire\n",
    "    (3, -1), # lowest point of front tire\n",
    "    (2,0), # end of front tire\n",
    "    (-2,0), # start of back tire\n",
    "    (-3, -1), # lowest point of back tire\n",
    "    (-4,0), # end of back tire\n",
    "]\n",
    "\n",
    "codes = [\n",
    "    Path.MOVETO, #begin the figure in the lower right\n",
    "    Path.LINETO, #end curve in lower right\n",
    "    Path.LINETO, #end curve in lower right\n",
    "    Path.LINETO, #end curve in lower right\n",
    "    Path.LINETO, #end curve in lower right\n",
    "    Path.LINETO, #end curve in lower right\n",
    "    Path.LINETO, #end curve in lower right\n",
    "    Path.LINETO, #end curve in lower right\n",
    "    # tires\n",
    "    Path.LINETO, # line to the front of tire\n",
    "    Path.CURVE3, # start a 3 point curve for the first tire\n",
    "    Path.LINETO, # end fire tire\n",
    "    Path.LINETO, # connection between the tires\n",
    "    Path.CURVE3, # start a 3 point curve for the first tire\n",
    "    Path.LINETO, # line to the front of tire\n",
    "]\n",
    "\n",
    "path = Path(verts,codes)"
   ]
  },
  {
   "cell_type": "markdown",
   "id": "9e47fb3b-16b3-4b5d-83d4-8f5dc148ee1a",
   "metadata": {},
   "source": [
    "## Animation\n",
    "Using the matplotlib animation part"
   ]
  },
  {
   "cell_type": "code",
   "execution_count": 4,
   "id": "edcfd4c4-2960-4301-a7df-b2613ce07897",
   "metadata": {
    "execution": {
     "iopub.execute_input": "2022-05-16T09:44:29.226306Z",
     "iopub.status.busy": "2022-05-16T09:44:29.225897Z",
     "iopub.status.idle": "2022-05-16T09:45:52.094503Z",
     "shell.execute_reply": "2022-05-16T09:45:52.093505Z",
     "shell.execute_reply.started": "2022-05-16T09:44:29.226271Z"
    },
    "tags": []
   },
   "outputs": [
    {
     "data": {
      "image/png": "[encoded data removed]",
      "text/plain": [
       "<Figure size 600x600 with 1 Axes>"
      ]
     },
     "metadata": {
      "needs_background": "light"
     },
     "output_type": "display_data"
    }
   ],
   "source": [
    "fig, ax = plt.subplots(figsize=(6,6), dpi=100)\n",
    "\n",
    "ax.set_xlim(( 0, length))\n",
    "ax.set_ylim((-0.5, 2.2))\n",
    "scat = ax.scatter([], [], marker=path, s=100)\n",
    "\n",
    "# initialization function: plot the background of each frame\n",
    "def init():\n",
    "    scat.set_offsets([0,0])\n",
    "    return (scat,)\n",
    "\n",
    "# animation function. This is called sequentially\n",
    "def animate(i):\n",
    "    x = locations[i,:]\n",
    "    y = lane[i, :]\n",
    "    plot_data = np.array([x,y])\n",
    "    plot_data = np.transpose(plot_data)\n",
    "    \n",
    "    scat.set_offsets(plot_data)\n",
    "    return (scat,)\n",
    "\n",
    "\n",
    "# call the animator. blit=True means only re-draw the parts that have changed so that the animations display much more quickly.\n",
    "anim = animation.FuncAnimation(fig, animate, init_func=init,\n",
    "                               frames=len(t), interval=30, blit=True)\n",
    "\n",
    "\n",
    "anim.save('multi_lane.mp4', writer = 'ffmpeg')"
   ]
  },
  {
   "cell_type": "code",
   "execution_count": null,
   "id": "ac7ec575-72aa-4a1e-b13c-1e36218e4f81",
   "metadata": {},
   "outputs": [],
   "source": []
  }
 ],
 "metadata": {
  "kernelspec": {
   "display_name": "Python 3 (ipykernel)",
   "language": "python",
   "name": "python3"
  },
  "language_info": {
   "codemirror_mode": {
    "name": "ipython",
    "version": 3
   },
   "file_extension": ".py",
   "mimetype": "text/x-python",
   "name": "python",
   "nbconvert_exporter": "python",
   "pygments_lexer": "ipython3",
   "version": "3.10.4"
  }
 },
 "nbformat": 4,
 "nbformat_minor": 5
}
