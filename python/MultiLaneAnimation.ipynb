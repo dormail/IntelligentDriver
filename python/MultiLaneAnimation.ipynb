{
 "cells": [
  {
   "cell_type": "markdown",
   "id": "d82adb19-b3f9-4298-be2b-2d577d5bb130",
   "metadata": {
    "execution": {
     "iopub.execute_input": "2022-05-09T07:49:26.074616Z",
     "iopub.status.busy": "2022-05-09T07:49:26.073735Z",
     "iopub.status.idle": "2022-05-09T07:49:27.105300Z",
     "shell.execute_reply": "2022-05-09T07:49:27.104579Z",
     "shell.execute_reply.started": "2022-05-09T07:49:26.074560Z"
    }
   },
   "source": [
    "# MultiLaneAnimation.ipynb"
   ]
  },
  {
   "cell_type": "code",
   "execution_count": 3,
   "id": "d1078fcf-6496-448e-8b70-ff75285667b1",
   "metadata": {
    "execution": {
     "iopub.execute_input": "2022-05-14T13:02:16.397711Z",
     "iopub.status.busy": "2022-05-14T13:02:16.397294Z",
     "iopub.status.idle": "2022-05-14T13:02:16.402656Z",
     "shell.execute_reply": "2022-05-14T13:02:16.401915Z",
     "shell.execute_reply.started": "2022-05-14T13:02:16.397674Z"
    },
    "tags": []
   },
   "outputs": [],
   "source": [
    "import numpy as np\n",
    "import pandas as pd\n",
    "import matplotlib.pyplot as plt\n",
    "import matplotlib.animation as animation\n",
    "from matplotlib.path import Path\n",
    "from IDMInterface import IDMSimulation"
   ]
  },
  {
   "cell_type": "markdown",
   "id": "8d4694b8-5254-4efc-8137-eca9e8927587",
   "metadata": {
    "execution": {
     "iopub.execute_input": "2022-05-09T07:52:53.096370Z",
     "iopub.status.busy": "2022-05-09T07:52:53.095667Z",
     "iopub.status.idle": "2022-05-09T07:52:53.099304Z",
     "shell.execute_reply": "2022-05-09T07:52:53.098682Z",
     "shell.execute_reply.started": "2022-05-09T07:52:53.096351Z"
    }
   },
   "source": [
    "## Running the simulation and getting the data"
   ]
  },
  {
   "cell_type": "code",
   "execution_count": 7,
   "id": "ee819283-4772-49eb-a136-8a4c48aca7c0",
   "metadata": {
    "collapsed": true,
    "execution": {
     "iopub.execute_input": "2022-05-14T13:14:58.475713Z",
     "iopub.status.busy": "2022-05-14T13:14:58.475233Z",
     "iopub.status.idle": "2022-05-14T13:15:33.915830Z",
     "shell.execute_reply": "2022-05-14T13:15:33.915163Z",
     "shell.execute_reply.started": "2022-05-14T13:14:58.475676Z"
    },
    "jupyter": {
     "outputs_hidden": true
    },
    "tags": []
   },
   "outputs": [
    {
     "name": "stdout",
     "output_type": "stream",
     "text": [
      "microscopicIDM --road-length 5000 --cars 50 --lanes 3 --step-width 0.03333333333333333 --integration-steps 18000 --output-csv /tmp/IDM/5000_50_3_0.03333333333333333_18000_EU.csv --EU \n"
     ]
    },
    {
     "name": "stderr",
     "output_type": "stream",
     "text": [
      "car.velocity = -23.9547 < 0\n",
      "\tcar.location = 492.188\n",
      "\tcar.accel = -1281.06\n",
      "\tcar.front->location = 548.279\n",
      "\tcar_in_front.location = 548.279\n",
      "car.velocity = -4.38153 < 0\n",
      "\tcar.location = 1133.21\n",
      "\tcar.accel = -561.702\n",
      "\tcar.front->location = 1139.57\n",
      "\tcar_in_front.location = 1139.57\n",
      "car.velocity = -9.17459 < 0\n",
      "\tcar.location = 1171.8\n",
      "\tcar.accel = -579.175\n",
      "\tcar.front->location = 1177.83\n",
      "\tcar_in_front.location = 1177.83\n",
      "car.velocity = -9.20082 < 0\n",
      "\tcar.location = 1224.06\n",
      "\tcar.accel = -758.514\n",
      "\tcar.front->location = 1232.42\n",
      "\tcar_in_front.location = 1232.42\n",
      "car.velocity = -16.8549 < 0\n",
      "\tcar.location = 2086.86\n",
      "\tcar.accel = -943.052\n",
      "\tcar.front->location = 2092.86\n",
      "\tcar_in_front.location = 2092.86\n",
      "car.velocity = -2.34545 < 0\n",
      "\tcar.location = 2125.36\n",
      "\tcar.accel = -383.499\n",
      "\tcar.front->location = 2131.56\n",
      "\tcar_in_front.location = 2131.56\n",
      "car.velocity = -0.676652 < 0\n",
      "\tcar.location = 2780.71\n",
      "\tcar.accel = -281.689\n",
      "\tcar.front->location = 2787.25\n",
      "\tcar_in_front.location = 2787.25\n",
      "car.velocity = -1.28075 < 0\n",
      "\tcar.location = 2798.62\n",
      "\tcar.accel = -251.348\n",
      "\tcar.front->location = 2805.29\n",
      "\tcar_in_front.location = 2805.29\n",
      "car.velocity = -0.526092 < 0\n",
      "\tcar.location = 2806.95\n",
      "\tcar.accel = -160.613\n",
      "\tcar.front->location = 2813.41\n",
      "\tcar_in_front.location = 2813.41\n",
      "car.velocity = -1.70606 < 0\n",
      "\tcar.location = 2891.64\n",
      "\tcar.accel = -510.303\n",
      "\tcar.front->location = 2897.93\n",
      "\tcar_in_front.location = 2897.93\n",
      "car.velocity = -8.61348 < 0\n",
      "\tcar.location = 410.092\n",
      "\tcar.accel = -797.226\n",
      "\tcar.front->location = 416.297\n",
      "\tcar_in_front.location = 416.297\n",
      "car.velocity = -16.8186 < 0\n",
      "\tcar.location = 2222.49\n",
      "\tcar.accel = -922.03\n",
      "\tcar.front->location = 2228.76\n",
      "\tcar_in_front.location = 2228.76\n",
      "car.velocity = -1.68905 < 0\n",
      "\tcar.location = 450.432\n",
      "\tcar.accel = -262.737\n",
      "\tcar.front->location = 456.493\n",
      "\tcar_in_front.location = 456.493\n",
      "car.velocity = -3.22924 < 0\n",
      "\tcar.location = 1703.19\n",
      "\tcar.accel = -871.419\n",
      "\tcar.front->location = 1709.21\n",
      "\tcar_in_front.location = 1709.21\n",
      "car.velocity = -6.78254 < 0\n",
      "\tcar.location = 1981.09\n",
      "\tcar.accel = -984.093\n",
      "\tcar.front->location = 1987.1\n",
      "\tcar_in_front.location = 1987.1\n",
      "car.velocity = -4.17688 < 0\n",
      "\tcar.location = 2704.5\n",
      "\tcar.accel = -911.758\n",
      "\tcar.front->location = 2710.52\n",
      "\tcar_in_front.location = 2710.52\n",
      "car.velocity = -3.56973 < 0\n",
      "\tcar.location = 2423.55\n",
      "\tcar.accel = -1091.57\n",
      "\tcar.front->location = 2429.58\n",
      "\tcar_in_front.location = 2429.58\n",
      "car.velocity = -14983.1 < 0\n",
      "\tcar.location = 1543.52\n",
      "\tcar.accel = -450566\n",
      "\tcar.front->location = 1757.16\n",
      "\tcar_in_front.location = 1757.16\n",
      "car.velocity = -0.556516 < 0\n",
      "\tcar.location = 1548.26\n",
      "\tcar.accel = -128.927\n",
      "\tcar.front->location = 1554.3\n",
      "\tcar_in_front.location = 1554.3\n",
      "car.velocity = -1.82906 < 0\n",
      "\tcar.location = 69.1651\n",
      "\tcar.accel = -841.031\n",
      "\tcar.front->location = 75.1773\n",
      "\tcar_in_front.location = 75.1773\n",
      "car.velocity = -0.0241318 < 0\n",
      "\tcar.location = 4153.83\n",
      "\tcar.accel = -879.964\n",
      "\tcar.front->location = 4160.73\n",
      "\tcar_in_front.location = 4160.73\n",
      "car.velocity = -4.17778 < 0\n",
      "\tcar.location = 1228.45\n",
      "\tcar.accel = -1090.87\n",
      "\tcar.front->location = 1234.45\n",
      "\tcar_in_front.location = 1234.45\n"
     ]
    }
   ],
   "source": [
    "cars = 50\n",
    "length = 5000\n",
    "lanes = 3\n",
    "steps = 600*30\n",
    "fn, df = IDMSimulation(road_length=length,\n",
    "                      cars=cars,\n",
    "                      lanes=3,\n",
    "                      step_width=1/30,                \n",
    "                      steps=steps,\n",
    "                      EU=True)\n",
    "\n",
    "t = df['t']\n",
    "locations = np.zeros(shape=(steps, cars))\n",
    "lane = np.zeros(shape=(steps, cars))\n",
    "\n",
    "for car_index in range(0,cars):\n",
    "    for step in range(0, steps):\n",
    "        locations[step, car_index] = df['x' + str(car_index)][step]\n",
    "        lane[step, car_index] = df['l' + str(car_index)][step]"
   ]
  },
  {
   "cell_type": "markdown",
   "id": "a6dcb8e4-3bbd-442e-82af-391c8441ec90",
   "metadata": {
    "tags": []
   },
   "source": [
    "## Defining the Car Icon\n",
    "I was really bored"
   ]
  },
  {
   "cell_type": "code",
   "execution_count": 8,
   "id": "3a9aac98-dd61-4532-99a7-838fc4c69f65",
   "metadata": {
    "execution": {
     "iopub.execute_input": "2022-05-14T13:15:33.916820Z",
     "iopub.status.busy": "2022-05-14T13:15:33.916717Z",
     "iopub.status.idle": "2022-05-14T13:15:33.921890Z",
     "shell.execute_reply": "2022-05-14T13:15:33.921174Z",
     "shell.execute_reply.started": "2022-05-14T13:15:33.916808Z"
    },
    "tags": []
   },
   "outputs": [],
   "source": [
    "verts = [\n",
    "    (-5,0), # lower left\n",
    "    (-4.8,1.5), # top left\n",
    "    (-2,1.5), # where the angle starts on the left\n",
    "    (-1,3), # upper end of the back window\n",
    "    (1,3), # upper end of the front window\n",
    "    (2,1.5), # lower end of the front window\n",
    "    (4.8,1.5),  # top right\n",
    "    (5,0),  # lower right\n",
    "    # tires\n",
    "    (4,0), # start of front tire\n",
    "    (3, -1), # lowest point of front tire\n",
    "    (2,0), # end of front tire\n",
    "    (-2,0), # start of back tire\n",
    "    (-3, -1), # lowest point of back tire\n",
    "    (-4,0), # end of back tire\n",
    "]\n",
    "\n",
    "codes = [\n",
    "    Path.MOVETO, #begin the figure in the lower right\n",
    "    Path.LINETO, #end curve in lower right\n",
    "    Path.LINETO, #end curve in lower right\n",
    "    Path.LINETO, #end curve in lower right\n",
    "    Path.LINETO, #end curve in lower right\n",
    "    Path.LINETO, #end curve in lower right\n",
    "    Path.LINETO, #end curve in lower right\n",
    "    Path.LINETO, #end curve in lower right\n",
    "    # tires\n",
    "    Path.LINETO, # line to the front of tire\n",
    "    Path.CURVE3, # start a 3 point curve for the first tire\n",
    "    Path.LINETO, # end fire tire\n",
    "    Path.LINETO, # connection between the tires\n",
    "    Path.CURVE3, # start a 3 point curve for the first tire\n",
    "    Path.LINETO, # line to the front of tire\n",
    "]\n",
    "\n",
    "path = Path(verts,codes)"
   ]
  },
  {
   "cell_type": "markdown",
   "id": "9e47fb3b-16b3-4b5d-83d4-8f5dc148ee1a",
   "metadata": {},
   "source": [
    "## Animation\n",
    "Using the matplotlib animation part"
   ]
  },
  {
   "cell_type": "code",
   "execution_count": 9,
   "id": "edcfd4c4-2960-4301-a7df-b2613ce07897",
   "metadata": {
    "execution": {
     "iopub.execute_input": "2022-05-14T13:15:33.922719Z",
     "iopub.status.busy": "2022-05-14T13:15:33.922616Z",
     "iopub.status.idle": "2022-05-14T13:22:40.695889Z",
     "shell.execute_reply": "2022-05-14T13:22:40.695463Z",
     "shell.execute_reply.started": "2022-05-14T13:15:33.922706Z"
    },
    "tags": []
   },
   "outputs": [
    {
     "data": {
      "image/png": "[encoded data removed]",
      "text/plain": [
       "<Figure size 600x600 with 1 Axes>"
      ]
     },
     "metadata": {
      "needs_background": "light"
     },
     "output_type": "display_data"
    }
   ],
   "source": [
    "fig, ax = plt.subplots(figsize=(6,6), dpi=100)\n",
    "\n",
    "ax.set_xlim(( 0, length))\n",
    "ax.set_ylim((-0.5, 2.2))\n",
    "scat = ax.scatter([], [], marker=path, s=100)\n",
    "\n",
    "# initialization function: plot the background of each frame\n",
    "def init():\n",
    "    scat.set_offsets([0,0])\n",
    "    return (scat,)\n",
    "\n",
    "# animation function. This is called sequentially\n",
    "def animate(i):\n",
    "    x = locations[i,:]\n",
    "    y = lane[i, :]\n",
    "    plot_data = np.array([x,y])\n",
    "    plot_data = np.transpose(plot_data)\n",
    "    \n",
    "    scat.set_offsets(plot_data)\n",
    "    return (scat,)\n",
    "\n",
    "\n",
    "# call the animator. blit=True means only re-draw the parts that have changed so that the animations display much more quickly.\n",
    "anim = animation.FuncAnimation(fig, animate, init_func=init,\n",
    "                               frames=len(t), interval=30, blit=True)\n",
    "\n",
    "\n",
    "anim.save('multi_lane.mp4', writer = 'ffmpeg')"
   ]
  },
  {
   "cell_type": "code",
   "execution_count": null,
   "id": "297cb01e-0d64-4dd0-a2a5-b543ac4f32e3",
   "metadata": {},
   "outputs": [],
   "source": []
  }
 ],
 "metadata": {
  "kernelspec": {
   "display_name": "Python 3 (ipykernel)",
   "language": "python",
   "name": "python3"
  },
  "language_info": {
   "codemirror_mode": {
    "name": "ipython",
    "version": 3
   },
   "file_extension": ".py",
   "mimetype": "text/x-python",
   "name": "python",
   "nbconvert_exporter": "python",
   "pygments_lexer": "ipython3",
   "version": "3.10.4"
  }
 },
 "nbformat": 4,
 "nbformat_minor": 5
}
