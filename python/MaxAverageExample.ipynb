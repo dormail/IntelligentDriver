{
 "cells": [
  {
   "cell_type": "code",
   "execution_count": 1,
   "id": "d77e4ed7-b7e8-45a3-8d95-8118640d109a",
   "metadata": {
    "execution": {
     "iopub.execute_input": "2022-05-17T12:30:46.432479Z",
     "iopub.status.busy": "2022-05-17T12:30:46.431458Z",
     "iopub.status.idle": "2022-05-17T12:30:47.474621Z",
     "shell.execute_reply": "2022-05-17T12:30:47.474183Z",
     "shell.execute_reply.started": "2022-05-17T12:30:46.432305Z"
    },
    "tags": []
   },
   "outputs": [],
   "source": [
    "from IDMInterface import IDMSimulation\n",
    "import pandas as pd\n",
    "import matplotlib.pyplot as plt\n",
    "import numpy as np\n",
    "\n",
    "from multiprocessing import Pool, Process, Value, Array"
   ]
  },
  {
   "cell_type": "code",
   "execution_count": 2,
   "id": "f12bfa71-8812-4875-b9f2-f5445628b1ef",
   "metadata": {
    "execution": {
     "iopub.execute_input": "2022-05-17T12:30:51.496646Z",
     "iopub.status.busy": "2022-05-17T12:30:51.496495Z",
     "iopub.status.idle": "2022-05-17T12:30:51.501410Z",
     "shell.execute_reply": "2022-05-17T12:30:51.500668Z",
     "shell.execute_reply.started": "2022-05-17T12:30:51.496630Z"
    },
    "tags": []
   },
   "outputs": [],
   "source": [
    "def max_ave_velocity(cars, length=1500, lanes=3, EU=False):\n",
    "    steps = 800*30\n",
    "    fn, df = IDMSimulation(road_length=length,\n",
    "                          cars=cars,\n",
    "                          lanes=3,\n",
    "                          step_width=1/30,                \n",
    "                          steps=steps,\n",
    "                          EU=EU)\n",
    "    \n",
    "    t = df['t']\n",
    "    velocities = np.zeros(shape=(steps, cars))\n",
    "    for car_index in range(0,cars):\n",
    "        for step in range(0, steps):\n",
    "            velocities[step, car_index] = df['v' + str(car_index)][step]\n",
    "    average_velocity = np.mean(velocities, axis=1)\n",
    "    return average_velocity.max()"
   ]
  },
  {
   "cell_type": "code",
   "execution_count": 8,
   "id": "6945b382-a0f5-424c-a779-d41133147ab4",
   "metadata": {
    "execution": {
     "iopub.execute_input": "2022-05-17T07:29:07.145364Z",
     "iopub.status.busy": "2022-05-17T07:29:07.144631Z",
     "iopub.status.idle": "2022-05-17T07:29:45.274520Z",
     "shell.execute_reply": "2022-05-17T07:29:45.272137Z",
     "shell.execute_reply.started": "2022-05-17T07:29:07.145334Z"
    },
    "tags": []
   },
   "outputs": [
    {
     "name": "stdout",
     "output_type": "stream",
     "text": [
      "microscopicIDM --road-length 1500 --cars 10 --lanes 3 --step-width 0.03333333333333333 --integration-steps 24000 --output-csv /tmp/IDM/1500_10_3_0.03333333333333333_24000_EU.csv --EU microscopicIDM --road-length 1500 --cars 20 --lanes 3 --step-width 0.03333333333333333 --integration-steps 24000 --output-csv /tmp/IDM/1500_20_3_0.03333333333333333_24000_EU.csv --EU \n",
      "\n",
      "microscopicIDM --road-length 1500 --cars 30 --lanes 3 --step-width 0.03333333333333333 --integration-steps 24000 --output-csv /tmp/IDM/1500_30_3_0.03333333333333333_24000_EU.csv --EU \n",
      "microscopicIDM --road-length 1500 --cars 40 --lanes 3 --step-width 0.03333333333333333 --integration-steps 24000 --output-csv /tmp/IDM/1500_40_3_0.03333333333333333_24000_EU.csv --EU \n",
      "microscopicIDM --road-length 1500 --cars 50 --lanes 3 --step-width 0.03333333333333333 --integration-steps 24000 --output-csv /tmp/IDM/1500_50_3_0.03333333333333333_24000_EU.csv --EU microscopicIDM --road-length 1500 --cars 60 --lanes 3 --step-width 0.03333333333333333 --integration-steps 24000 --output-csv /tmp/IDM/1500_60_3_0.03333333333333333_24000_EU.csv --EU \n",
      "\n",
      "microscopicIDM --road-length 1500 --cars 70 --lanes 3 --step-width 0.03333333333333333 --integration-steps 24000 --output-csv /tmp/IDM/1500_70_3_0.03333333333333333_24000_EU.csv --EU \n",
      "microscopicIDM --road-length 1500 --cars 80 --lanes 3 --step-width 0.03333333333333333 --integration-steps 24000 --output-csv /tmp/IDM/1500_80_3_0.03333333333333333_24000_EU.csv --EU \n",
      "microscopicIDM --road-length 1500 --cars 90 --lanes 3 --step-width 0.03333333333333333 --integration-steps 24000 --output-csv /tmp/IDM/1500_90_3_0.03333333333333333_24000_EU.csv --EU \n",
      "microscopicIDM --road-length 1500 --cars 100 --lanes 3 --step-width 0.03333333333333333 --integration-steps 24000 --output-csv /tmp/IDM/1500_100_3_0.03333333333333333_24000_EU.csv --EU \n"
     ]
    }
   ],
   "source": [
    "#car_num = [10,20,30,40,50,60,70,80,90,100,110,120,130,140,150,160,170,180,190,200]# a bit long for testing\n",
    "car_num = [10,20,30,40,50,60,70,80,90,100]\n",
    "\n",
    "processes = l = [None] * len(car_num)\n",
    "average_max_velocity = np.array(car_num)\n",
    "\n",
    "average_max_velocity = Array('d', range(len(car_num)))\n",
    "\n",
    "def calculate_for_index(index, car_num, target):\n",
    "    target[i] = max_ave_velocity(car_num[i], EU=True)\n",
    "\n",
    "for i in range(0, len(car_num)):\n",
    "    p = Process(target=calculate_for_index, args=(i, car_num, average_max_velocity))\n",
    "    p.start()\n",
    "    processes[i] = p\n",
    "    \n",
    "for i in range(len(processes)):\n",
    "    processes[i].join()\n",
    "    \n",
    "average_max_velocity_EU = np.array(average_max_velocity)\n"
   ]
  },
  {
   "cell_type": "code",
   "execution_count": 9,
   "id": "ae546cbf-fd57-4eec-9abb-00d303d8acc1",
   "metadata": {
    "execution": {
     "iopub.execute_input": "2022-05-17T07:29:45.279326Z",
     "iopub.status.busy": "2022-05-17T07:29:45.278729Z",
     "iopub.status.idle": "2022-05-17T07:30:14.766847Z",
     "shell.execute_reply": "2022-05-17T07:30:14.764072Z",
     "shell.execute_reply.started": "2022-05-17T07:29:45.279281Z"
    },
    "tags": []
   },
   "outputs": [
    {
     "name": "stdout",
     "output_type": "stream",
     "text": [
      "microscopicIDM --road-length 1500 --cars 20 --lanes 3 --step-width 0.03333333333333333 --integration-steps 24000 --output-csv /tmp/IDM/1500_20_3_0.03333333333333333_24000.csvmicroscopicIDM --road-length 1500 --cars 30 --lanes 3 --step-width 0.03333333333333333 --integration-steps 24000 --output-csv /tmp/IDM/1500_30_3_0.03333333333333333_24000.csvmicroscopicIDM --road-length 1500 --cars 10 --lanes 3 --step-width 0.03333333333333333 --integration-steps 24000 --output-csv /tmp/IDM/1500_10_3_0.03333333333333333_24000.csv\n",
      "\n",
      "\n",
      "microscopicIDM --road-length 1500 --cars 40 --lanes 3 --step-width 0.03333333333333333 --integration-steps 24000 --output-csv /tmp/IDM/1500_40_3_0.03333333333333333_24000.csvmicroscopicIDM --road-length 1500 --cars 50 --lanes 3 --step-width 0.03333333333333333 --integration-steps 24000 --output-csv /tmp/IDM/1500_50_3_0.03333333333333333_24000.csv\n",
      "\n",
      "microscopicIDM --road-length 1500 --cars 60 --lanes 3 --step-width 0.03333333333333333 --integration-steps 24000 --output-csv /tmp/IDM/1500_60_3_0.03333333333333333_24000.csv\n",
      "microscopicIDM --road-length 1500 --cars 70 --lanes 3 --step-width 0.03333333333333333 --integration-steps 24000 --output-csv /tmp/IDM/1500_70_3_0.03333333333333333_24000.csvmicroscopicIDM --road-length 1500 --cars 80 --lanes 3 --step-width 0.03333333333333333 --integration-steps 24000 --output-csv /tmp/IDM/1500_80_3_0.03333333333333333_24000.csv\n",
      "\n",
      "microscopicIDM --road-length 1500 --cars 90 --lanes 3 --step-width 0.03333333333333333 --integration-steps 24000 --output-csv /tmp/IDM/1500_90_3_0.03333333333333333_24000.csv\n",
      "microscopicIDM --road-length 1500 --cars 100 --lanes 3 --step-width 0.03333333333333333 --integration-steps 24000 --output-csv /tmp/IDM/1500_100_3_0.03333333333333333_24000.csv\n"
     ]
    }
   ],
   "source": [
    "processes = l = [None] * len(car_num)\n",
    "average_max_velocity = np.array(car_num)\n",
    "\n",
    "average_max_velocity = Array('d', range(len(car_num)))\n",
    "\n",
    "def calculate_for_index(index, car_num, target):\n",
    "    target[i] = max_ave_velocity(car_num[i], EU=False)\n",
    "\n",
    "for i in range(0, len(car_num)):\n",
    "    p = Process(target=calculate_for_index, args=(i, car_num, average_max_velocity))\n",
    "    p.start()\n",
    "    processes[i] = p\n",
    "    \n",
    "for i in range(len(processes)):\n",
    "    processes[i].join()\n",
    "    \n",
    "average_max_velocity_US = np.array(average_max_velocity)"
   ]
  },
  {
   "cell_type": "code",
   "execution_count": 10,
   "id": "1d51c6b4-34b5-4fb3-922a-879cfbd8146a",
   "metadata": {
    "execution": {
     "iopub.execute_input": "2022-05-17T07:30:14.772061Z",
     "iopub.status.busy": "2022-05-17T07:30:14.771630Z",
     "iopub.status.idle": "2022-05-17T07:30:14.978573Z",
     "shell.execute_reply": "2022-05-17T07:30:14.977704Z",
     "shell.execute_reply.started": "2022-05-17T07:30:14.771998Z"
    },
    "tags": []
   },
   "outputs": [
    {
     "data": {
      "image/png": "[encoded data removed]",
      "text/plain": [
       "<Figure size 432x288 with 1 Axes>"
      ]
     },
     "metadata": {
      "needs_background": "light"
     },
     "output_type": "display_data"
    }
   ],
   "source": [
    "plt.scatter(car_num, average_max_velocity_EU, label='EU Law',\n",
    "           marker='+')\n",
    "plt.scatter(car_num, average_max_velocity_US, label='US Law',\n",
    "           marker='+')\n",
    "\n",
    "plt.xlabel('Cars on the road')\n",
    "plt.ylabel('Average speed / (m/s)')\n",
    "plt.legend()\n",
    "plt.tight_layout()\n",
    "\n",
    "plt.savefig('build/ave_speed_comparison.pdf')"
   ]
  },
  {
   "cell_type": "code",
   "execution_count": 11,
   "id": "c8fb0b4c-5852-4556-a72b-b0a4671069c5",
   "metadata": {
    "execution": {
     "iopub.execute_input": "2022-05-17T07:30:14.980562Z",
     "iopub.status.busy": "2022-05-17T07:30:14.980322Z",
     "iopub.status.idle": "2022-05-17T07:30:15.113067Z",
     "shell.execute_reply": "2022-05-17T07:30:15.112513Z",
     "shell.execute_reply.started": "2022-05-17T07:30:14.980536Z"
    },
    "tags": []
   },
   "outputs": [
    {
     "data": {
      "image/png": "[encoded data removed]",
      "text/plain": [
       "<Figure size 432x288 with 1 Axes>"
      ]
     },
     "metadata": {
      "needs_background": "light"
     },
     "output_type": "display_data"
    }
   ],
   "source": [
    "plt.scatter(car_num, car_num * average_max_velocity_EU / 4500, label='EU Law',\n",
    "           marker='+')\n",
    "plt.scatter(car_num, car_num * average_max_velocity_US / 4500, label='US Law',\n",
    "           marker='+')\n",
    "\n",
    "plt.xlabel('Cars on the road')\n",
    "plt.ylabel('Throughput / (cars / second / lane')\n",
    "plt.legend()\n",
    "plt.tight_layout()\n",
    "\n",
    "plt.savefig('build/ave_thoughput_comparison.pdf')"
   ]
  },
  {
   "cell_type": "code",
   "execution_count": 12,
   "id": "8d114476-a833-4d7f-8976-0540853c5eb9",
   "metadata": {
    "execution": {
     "iopub.execute_input": "2022-05-17T07:30:15.113907Z",
     "iopub.status.busy": "2022-05-17T07:30:15.113745Z",
     "iopub.status.idle": "2022-05-17T07:30:15.251812Z",
     "shell.execute_reply": "2022-05-17T07:30:15.251278Z",
     "shell.execute_reply.started": "2022-05-17T07:30:15.113892Z"
    },
    "tags": []
   },
   "outputs": [
    {
     "data": {
      "image/png": "[encoded data removed]",
      "text/plain": [
       "<Figure size 432x288 with 1 Axes>"
      ]
     },
     "metadata": {
      "needs_background": "light"
     },
     "output_type": "display_data"
    }
   ],
   "source": [
    "plt.scatter(average_max_velocity_EU, car_num * average_max_velocity_EU / 4500, label='EU Law',\n",
    "           marker='+')\n",
    "plt.scatter(average_max_velocity_US, car_num * average_max_velocity_US / 4500, label='US Law',\n",
    "           marker='+')\n",
    "\n",
    "plt.xlabel('Peak Average Speed / (m/s)')\n",
    "plt.ylabel('Throughput / (cars / second / lane')\n",
    "plt.legend()\n",
    "plt.tight_layout()\n",
    "\n",
    "plt.savefig('build/ave_thoughput_comparison.pdf')"
   ]
  },
  {
   "cell_type": "markdown",
   "id": "83505f81-118e-41b3-9fd0-8798e322777b",
   "metadata": {},
   "source": [
    "## Satisfaction plot"
   ]
  },
  {
   "cell_type": "code",
   "execution_count": 13,
   "id": "c0658fda-839a-4570-bfdd-8cfe8dd74d27",
   "metadata": {
    "execution": {
     "iopub.execute_input": "2022-05-17T07:30:32.400553Z",
     "iopub.status.busy": "2022-05-17T07:30:32.400193Z",
     "iopub.status.idle": "2022-05-17T07:30:32.407337Z",
     "shell.execute_reply": "2022-05-17T07:30:32.406149Z",
     "shell.execute_reply.started": "2022-05-17T07:30:32.400516Z"
    },
    "tags": []
   },
   "outputs": [],
   "source": [
    "def max_ave_satisfaction(cars, length=1500, lanes=3, EU=False):\n",
    "    steps = 30000\n",
    "    fn, df = IDMSimulation(road_length=length,\n",
    "                          cars=cars,\n",
    "                          lanes=3,\n",
    "                          step_width=1/30,                \n",
    "                          steps=steps,\n",
    "                          EU=EU)\n",
    "    \n",
    "    t = df['t']\n",
    "    satisfaction = df['average_satisfaction']\n",
    "    recent_satisfaction = satisfaction[-1000:]\n",
    "    return np.average(recent_satisfaction)"
   ]
  },
  {
   "cell_type": "code",
   "execution_count": 14,
   "id": "0147e6f5-ff32-4b79-a0a8-9be69133b063",
   "metadata": {
    "execution": {
     "iopub.execute_input": "2022-05-17T07:30:32.684362Z",
     "iopub.status.busy": "2022-05-17T07:30:32.683575Z",
     "iopub.status.idle": "2022-05-17T07:31:03.862036Z",
     "shell.execute_reply": "2022-05-17T07:31:03.861150Z",
     "shell.execute_reply.started": "2022-05-17T07:30:32.684311Z"
    },
    "tags": []
   },
   "outputs": [
    {
     "name": "stdout",
     "output_type": "stream",
     "text": [
      "microscopicIDM --road-length 1500 --cars 10 --lanes 3 --step-width 0.03333333333333333 --integration-steps 30000 --output-csv /tmp/IDM/1500_10_3_0.03333333333333333_30000_EU.csv --EU \n",
      "microscopicIDM --road-length 1500 --cars 20 --lanes 3 --step-width 0.03333333333333333 --integration-steps 30000 --output-csv /tmp/IDM/1500_20_3_0.03333333333333333_30000_EU.csv --EU \n",
      "microscopicIDM --road-length 1500 --cars 30 --lanes 3 --step-width 0.03333333333333333 --integration-steps 30000 --output-csv /tmp/IDM/1500_30_3_0.03333333333333333_30000_EU.csv --EU \n",
      "microscopicIDM --road-length 1500 --cars 40 --lanes 3 --step-width 0.03333333333333333 --integration-steps 30000 --output-csv /tmp/IDM/1500_40_3_0.03333333333333333_30000_EU.csv --EU \n",
      "microscopicIDM --road-length 1500 --cars 50 --lanes 3 --step-width 0.03333333333333333 --integration-steps 30000 --output-csv /tmp/IDM/1500_50_3_0.03333333333333333_30000_EU.csv --EU \n",
      "microscopicIDM --road-length 1500 --cars 60 --lanes 3 --step-width 0.03333333333333333 --integration-steps 30000 --output-csv /tmp/IDM/1500_60_3_0.03333333333333333_30000_EU.csv --EU \n",
      "microscopicIDM --road-length 1500 --cars 70 --lanes 3 --step-width 0.03333333333333333 --integration-steps 30000 --output-csv /tmp/IDM/1500_70_3_0.03333333333333333_30000_EU.csv --EU \n",
      "microscopicIDM --road-length 1500 --cars 80 --lanes 3 --step-width 0.03333333333333333 --integration-steps 30000 --output-csv /tmp/IDM/1500_80_3_0.03333333333333333_30000_EU.csv --EU microscopicIDM --road-length 1500 --cars 90 --lanes 3 --step-width 0.03333333333333333 --integration-steps 30000 --output-csv /tmp/IDM/1500_90_3_0.03333333333333333_30000_EU.csv --EU \n",
      "\n",
      "microscopicIDM --road-length 1500 --cars 100 --lanes 3 --step-width 0.03333333333333333 --integration-steps 30000 --output-csv /tmp/IDM/1500_100_3_0.03333333333333333_30000_EU.csv --EU \n"
     ]
    }
   ],
   "source": [
    "processes = l = [None] * len(car_num)\n",
    "average_max_velocity = np.array(car_num)\n",
    "\n",
    "average_max_velocity = Array('d', range(len(car_num)))\n",
    "\n",
    "def calculate_for_index(index, car_num, target):\n",
    "    target[i] = max_ave_satisfaction(car_num[i], EU=True)\n",
    "\n",
    "for i in range(0, len(car_num)):\n",
    "    p = Process(target=calculate_for_index, args=(i, car_num, average_max_velocity))\n",
    "    p.start()\n",
    "    processes[i] = p\n",
    "    \n",
    "for i in range(len(processes)):\n",
    "    processes[i].join()\n",
    "    \n",
    "average_satisfaction_EU = np.array(average_max_velocity)"
   ]
  },
  {
   "cell_type": "code",
   "execution_count": 15,
   "id": "9bcffc02-8b8a-4e45-aff4-125bb8418371",
   "metadata": {
    "execution": {
     "iopub.execute_input": "2022-05-17T07:31:03.863555Z",
     "iopub.status.busy": "2022-05-17T07:31:03.863432Z",
     "iopub.status.idle": "2022-05-17T07:31:23.027464Z",
     "shell.execute_reply": "2022-05-17T07:31:23.026104Z",
     "shell.execute_reply.started": "2022-05-17T07:31:03.863542Z"
    },
    "tags": []
   },
   "outputs": [
    {
     "name": "stdout",
     "output_type": "stream",
     "text": [
      "microscopicIDM --road-length 1500 --cars 10 --lanes 3 --step-width 0.03333333333333333 --integration-steps 30000 --output-csv /tmp/IDM/1500_10_3_0.03333333333333333_30000.csvmicroscopicIDM --road-length 1500 --cars 20 --lanes 3 --step-width 0.03333333333333333 --integration-steps 30000 --output-csv /tmp/IDM/1500_20_3_0.03333333333333333_30000.csv\n",
      "\n",
      "microscopicIDM --road-length 1500 --cars 30 --lanes 3 --step-width 0.03333333333333333 --integration-steps 30000 --output-csv /tmp/IDM/1500_30_3_0.03333333333333333_30000.csv\n",
      "microscopicIDM --road-length 1500 --cars 40 --lanes 3 --step-width 0.03333333333333333 --integration-steps 30000 --output-csv /tmp/IDM/1500_40_3_0.03333333333333333_30000.csv\n",
      "microscopicIDM --road-length 1500 --cars 50 --lanes 3 --step-width 0.03333333333333333 --integration-steps 30000 --output-csv /tmp/IDM/1500_50_3_0.03333333333333333_30000.csv\n",
      "microscopicIDM --road-length 1500 --cars 60 --lanes 3 --step-width 0.03333333333333333 --integration-steps 30000 --output-csv /tmp/IDM/1500_60_3_0.03333333333333333_30000.csvmicroscopicIDM --road-length 1500 --cars 70 --lanes 3 --step-width 0.03333333333333333 --integration-steps 30000 --output-csv /tmp/IDM/1500_70_3_0.03333333333333333_30000.csv\n",
      "\n",
      "microscopicIDM --road-length 1500 --cars 80 --lanes 3 --step-width 0.03333333333333333 --integration-steps 30000 --output-csv /tmp/IDM/1500_80_3_0.03333333333333333_30000.csv\n",
      "microscopicIDM --road-length 1500 --cars 90 --lanes 3 --step-width 0.03333333333333333 --integration-steps 30000 --output-csv /tmp/IDM/1500_90_3_0.03333333333333333_30000.csv\n",
      "microscopicIDM --road-length 1500 --cars 100 --lanes 3 --step-width 0.03333333333333333 --integration-steps 30000 --output-csv /tmp/IDM/1500_100_3_0.03333333333333333_30000.csv\n"
     ]
    }
   ],
   "source": [
    "#car_num = [10,20,30,40,50,60,70,80,90,100,110,120,130,140,150,160,170,180,190,200]# a bit long for testing\n",
    "car_num = [10,20,30,40,50,60,70,80,90,100]\n",
    "\n",
    "processes = l = [None] * len(car_num)\n",
    "average_max_velocity = np.array(car_num)\n",
    "\n",
    "average_max_velocity = Array('d', range(len(car_num)))\n",
    "\n",
    "def calculate_for_index(index, car_num, target):\n",
    "    target[i] = max_ave_satisfaction(car_num[i], EU=False)\n",
    "\n",
    "for i in range(0, len(car_num)):\n",
    "    p = Process(target=calculate_for_index, args=(i, car_num, average_max_velocity))\n",
    "    p.start()\n",
    "    processes[i] = p\n",
    "    \n",
    "for i in range(len(processes)):\n",
    "    processes[i].join()\n",
    "    \n",
    "average_satisfaction_US = np.array(average_max_velocity)"
   ]
  },
  {
   "cell_type": "code",
   "execution_count": 16,
   "id": "4b4e5b09-97b3-4a06-a863-9159140ae06a",
   "metadata": {
    "execution": {
     "iopub.execute_input": "2022-05-17T07:31:23.029646Z",
     "iopub.status.busy": "2022-05-17T07:31:23.029320Z",
     "iopub.status.idle": "2022-05-17T07:31:23.215242Z",
     "shell.execute_reply": "2022-05-17T07:31:23.214697Z",
     "shell.execute_reply.started": "2022-05-17T07:31:23.029608Z"
    },
    "tags": []
   },
   "outputs": [
    {
     "data": {
      "image/png": "[encoded data removed]",
      "text/plain": [
       "<Figure size 432x288 with 1 Axes>"
      ]
     },
     "metadata": {
      "needs_background": "light"
     },
     "output_type": "display_data"
    }
   ],
   "source": [
    "plt.scatter(car_num, average_satisfaction_EU, label='EU Law',\n",
    "           marker='+')\n",
    "plt.scatter(car_num, average_satisfaction_US, label='US Law',\n",
    "           marker='+')\n",
    "\n",
    "plt.xlabel('Peak Average Speed / (m/s)')\n",
    "plt.ylabel('Throughput / (cars / second / lane')\n",
    "plt.legend()\n",
    "plt.tight_layout()\n",
    "\n",
    "plt.savefig('build/ave_thoughput_comparison.pdf')"
   ]
  },
  {
   "cell_type": "code",
   "execution_count": null,
   "id": "70eaac2f-8348-4160-9b92-92ab3ab1a6bb",
   "metadata": {},
   "outputs": [],
   "source": []
  }
 ],
 "metadata": {
  "kernelspec": {
   "display_name": "Python 3 (ipykernel)",
   "language": "python",
   "name": "python3"
  },
  "language_info": {
   "codemirror_mode": {
    "name": "ipython",
    "version": 3
   },
   "file_extension": ".py",
   "mimetype": "text/x-python",
   "name": "python",
   "nbconvert_exporter": "python",
   "pygments_lexer": "ipython3",
   "version": "3.10.4"
  }
 },
 "nbformat": 4,
 "nbformat_minor": 5
}
