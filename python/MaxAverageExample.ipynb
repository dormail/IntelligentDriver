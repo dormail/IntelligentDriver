{
 "cells": [
  {
   "cell_type": "code",
   "execution_count": 38,
   "id": "d77e4ed7-b7e8-45a3-8d95-8118640d109a",
   "metadata": {
    "execution": {
     "iopub.execute_input": "2022-05-02T13:53:38.390016Z",
     "iopub.status.busy": "2022-05-02T13:53:38.389645Z",
     "iopub.status.idle": "2022-05-02T13:53:38.395886Z",
     "shell.execute_reply": "2022-05-02T13:53:38.394694Z",
     "shell.execute_reply.started": "2022-05-02T13:53:38.389979Z"
    },
    "tags": []
   },
   "outputs": [],
   "source": [
    "from IDMInterface import IDMSimulation\n",
    "import pandas as pd\n",
    "import matplotlib.pyplot as plt\n",
    "import numpy as np"
   ]
  },
  {
   "cell_type": "code",
   "execution_count": 39,
   "id": "f12bfa71-8812-4875-b9f2-f5445628b1ef",
   "metadata": {
    "execution": {
     "iopub.execute_input": "2022-05-02T13:53:39.439933Z",
     "iopub.status.busy": "2022-05-02T13:53:39.438980Z",
     "iopub.status.idle": "2022-05-02T13:53:39.448518Z",
     "shell.execute_reply": "2022-05-02T13:53:39.447485Z",
     "shell.execute_reply.started": "2022-05-02T13:53:39.439882Z"
    },
    "tags": []
   },
   "outputs": [],
   "source": [
    "def max_ave_velocity(cars, length=1500, lanes=3):\n",
    "    steps = 800*30\n",
    "    fn, df = IDMSimulation(road_length=length,\n",
    "                          cars=cars,\n",
    "                          lanes=3,\n",
    "                          step_width=1/30,                \n",
    "                          steps=steps)\n",
    "    \n",
    "    t = df['t']\n",
    "    velocities = np.zeros(shape=(steps, cars))\n",
    "    for car_index in range(0,cars):\n",
    "        for step in range(0, steps):\n",
    "            velocities[step, car_index] = df['v' + str(car_index)][step]\n",
    "    average_velocity = np.mean(velocities, axis=1)\n",
    "    return average_velocity.max()"
   ]
  },
  {
   "cell_type": "code",
   "execution_count": 40,
   "id": "f32cd059-3811-458b-9236-36225db9f9de",
   "metadata": {
    "execution": {
     "iopub.execute_input": "2022-05-02T13:53:41.566612Z",
     "iopub.status.busy": "2022-05-02T13:53:41.566274Z",
     "iopub.status.idle": "2022-05-02T13:53:41.572156Z",
     "shell.execute_reply": "2022-05-02T13:53:41.571052Z",
     "shell.execute_reply.started": "2022-05-02T13:53:41.566574Z"
    },
    "tags": []
   },
   "outputs": [],
   "source": [
    "from multiprocessing import Pool, Process, Value, Array"
   ]
  },
  {
   "cell_type": "code",
   "execution_count": 48,
   "id": "6945b382-a0f5-424c-a779-d41133147ab4",
   "metadata": {
    "execution": {
     "iopub.execute_input": "2022-05-02T14:02:26.074450Z",
     "iopub.status.busy": "2022-05-02T14:02:26.073946Z",
     "iopub.status.idle": "2022-05-02T14:04:18.516008Z",
     "shell.execute_reply": "2022-05-02T14:04:18.515215Z",
     "shell.execute_reply.started": "2022-05-02T14:02:26.074408Z"
    },
    "tags": []
   },
   "outputs": [
    {
     "name": "stdout",
     "output_type": "stream",
     "text": [
      "microscopicIDM --road-length 1500 --cars 10 --lanes 3 --step-width 0.03333333333333333 --integration-steps 24000 --output-csv /tmp/IDM/1500_10_3_0.03333333333333333_24000.csv\n",
      "microscopicIDM --road-length 1500 --cars 20 --lanes 3 --step-width 0.03333333333333333 --integration-steps 24000 --output-csv /tmp/IDM/1500_20_3_0.03333333333333333_24000.csv\n",
      "microscopicIDM --road-length 1500 --cars 30 --lanes 3 --step-width 0.03333333333333333 --integration-steps 24000 --output-csv /tmp/IDM/1500_30_3_0.03333333333333333_24000.csv\n",
      "microscopicIDM --road-length 1500 --cars 40 --lanes 3 --step-width 0.03333333333333333 --integration-steps 24000 --output-csv /tmp/IDM/1500_40_3_0.03333333333333333_24000.csv\n",
      "microscopicIDM --road-length 1500 --cars 50 --lanes 3 --step-width 0.03333333333333333 --integration-steps 24000 --output-csv /tmp/IDM/1500_50_3_0.03333333333333333_24000.csv\n",
      "microscopicIDM --road-length 1500 --cars 60 --lanes 3 --step-width 0.03333333333333333 --integration-steps 24000 --output-csv /tmp/IDM/1500_60_3_0.03333333333333333_24000.csv\n",
      "microscopicIDM --road-length 1500 --cars 70 --lanes 3 --step-width 0.03333333333333333 --integration-steps 24000 --output-csv /tmp/IDM/1500_70_3_0.03333333333333333_24000.csv\n",
      "microscopicIDM --road-length 1500 --cars 80 --lanes 3 --step-width 0.03333333333333333 --integration-steps 24000 --output-csv /tmp/IDM/1500_80_3_0.03333333333333333_24000.csv\n",
      "microscopicIDM --road-length 1500 --cars 90 --lanes 3 --step-width 0.03333333333333333 --integration-steps 24000 --output-csv /tmp/IDM/1500_90_3_0.03333333333333333_24000.csv\n",
      "microscopicIDM --road-length 1500 --cars 100 --lanes 3 --step-width 0.03333333333333333 --integration-steps 24000 --output-csv /tmp/IDM/1500_100_3_0.03333333333333333_24000.csv\n",
      "microscopicIDM --road-length 1500 --cars 110 --lanes 3 --step-width 0.03333333333333333 --integration-steps 24000 --output-csv /tmp/IDM/1500_110_3_0.03333333333333333_24000.csv\n",
      "microscopicIDM --road-length 1500 --cars 120 --lanes 3 --step-width 0.03333333333333333 --integration-steps 24000 --output-csv /tmp/IDM/1500_120_3_0.03333333333333333_24000.csv\n",
      "microscopicIDM --road-length 1500 --cars 130 --lanes 3 --step-width 0.03333333333333333 --integration-steps 24000 --output-csv /tmp/IDM/1500_130_3_0.03333333333333333_24000.csvmicroscopicIDM --road-length 1500 --cars 140 --lanes 3 --step-width 0.03333333333333333 --integration-steps 24000 --output-csv /tmp/IDM/1500_140_3_0.03333333333333333_24000.csv\n",
      "microscopicIDM --road-length 1500 --cars 150 --lanes 3 --step-width 0.03333333333333333 --integration-steps 24000 --output-csv /tmp/IDM/1500_150_3_0.03333333333333333_24000.csv\n",
      "\n",
      "microscopicIDM --road-length 1500 --cars 160 --lanes 3 --step-width 0.03333333333333333 --integration-steps 24000 --output-csv /tmp/IDM/1500_160_3_0.03333333333333333_24000.csvmicroscopicIDM --road-length 1500 --cars 170 --lanes 3 --step-width 0.03333333333333333 --integration-steps 24000 --output-csv /tmp/IDM/1500_170_3_0.03333333333333333_24000.csv\n",
      "\n",
      "microscopicIDM --road-length 1500 --cars 180 --lanes 3 --step-width 0.03333333333333333 --integration-steps 24000 --output-csv /tmp/IDM/1500_180_3_0.03333333333333333_24000.csvmicroscopicIDM --road-length 1500 --cars 190 --lanes 3 --step-width 0.03333333333333333 --integration-steps 24000 --output-csv /tmp/IDM/1500_190_3_0.03333333333333333_24000.csv\n",
      "microscopicIDM --road-length 1500 --cars 200 --lanes 3 --step-width 0.03333333333333333 --integration-steps 24000 --output-csv /tmp/IDM/1500_200_3_0.03333333333333333_24000.csv\n",
      "\n"
     ]
    }
   ],
   "source": [
    "car_num = [10,20,30,40,50,60,70,80,90,100,110,120,130,140,150,160,170,180,190,200]# a bit long for testing\n",
    "#car_num = [10,20,30,40,50,60,70,80,90,100]\n",
    "\n",
    "processes = l = [None] * len(car_num)\n",
    "average_max_velocity = np.array(car_num)\n",
    "\n",
    "average_max_velocity = Array('d', range(len(car_num)))\n",
    "\n",
    "def calculate_for_index(index, car_num, target):\n",
    "    target[i] = max_ave_velocity(car_num[i])\n",
    "\n",
    "for i in range(0, len(car_num)):\n",
    "    p = Process(target=calculate_for_index, args=(i, car_num, average_max_velocity))\n",
    "    p.start()\n",
    "    processes[i] = p\n",
    "    \n",
    "for i in range(len(processes)):\n",
    "    processes[i].join()\n",
    "    \n",
    "average_max_velocity = np.array(average_max_velocity)\n"
   ]
  },
  {
   "cell_type": "code",
   "execution_count": 42,
   "id": "1d51c6b4-34b5-4fb3-922a-879cfbd8146a",
   "metadata": {
    "execution": {
     "iopub.execute_input": "2022-05-02T13:55:35.955174Z",
     "iopub.status.busy": "2022-05-02T13:55:35.954602Z",
     "iopub.status.idle": "2022-05-02T13:55:36.073089Z",
     "shell.execute_reply": "2022-05-02T13:55:36.072692Z",
     "shell.execute_reply.started": "2022-05-02T13:55:35.955135Z"
    },
    "tags": []
   },
   "outputs": [
    {
     "data": {
      "text/plain": [
       "<matplotlib.collections.PathCollection at 0x7f57609bfd00>"
      ]
     },
     "execution_count": 42,
     "metadata": {},
     "output_type": "execute_result"
    },
    {
     "data": {
      "image/png": "[encoded data removed]",
      "text/plain": [
       "<Figure size 432x288 with 1 Axes>"
      ]
     },
     "metadata": {
      "needs_background": "light"
     },
     "output_type": "display_data"
    }
   ],
   "source": [
    "plt.scatter(car_num, average_max_velocity)"
   ]
  },
  {
   "cell_type": "markdown",
   "id": "db6adefa-5622-4a7d-81f0-8f25b56ec62e",
   "metadata": {},
   "source": [
    "## Concurrency using threading module"
   ]
  },
  {
   "cell_type": "code",
   "execution_count": 13,
   "id": "39d2dbf3-ed23-4d98-8018-5897ce12d7e2",
   "metadata": {
    "execution": {
     "iopub.execute_input": "2022-04-30T14:13:31.830130Z",
     "iopub.status.busy": "2022-04-30T14:13:31.829954Z",
     "iopub.status.idle": "2022-04-30T14:13:31.833456Z",
     "shell.execute_reply": "2022-04-30T14:13:31.832806Z",
     "shell.execute_reply.started": "2022-04-30T14:13:31.830110Z"
    },
    "tags": []
   },
   "outputs": [],
   "source": [
    "import threading"
   ]
  },
  {
   "cell_type": "code",
   "execution_count": 14,
   "id": "c8887943-94a1-40ac-879b-ce115f969226",
   "metadata": {
    "collapsed": true,
    "execution": {
     "iopub.execute_input": "2022-04-30T14:13:31.834508Z",
     "iopub.status.busy": "2022-04-30T14:13:31.834312Z",
     "iopub.status.idle": "2022-04-30T14:18:54.596332Z",
     "shell.execute_reply": "2022-04-30T14:18:54.595480Z",
     "shell.execute_reply.started": "2022-04-30T14:13:31.834485Z"
    },
    "jupyter": {
     "outputs_hidden": true
    },
    "tags": []
   },
   "outputs": [
    {
     "name": "stdout",
     "output_type": "stream",
     "text": [
      "microscopicIDM --road-length 2000 --cars 10 --lanes 3 --step-width 0.03333333333333333 --integration-steps 24000 --output-csv /tmp/IDM/2000_10_3_0.03333333333333333_24000.csv\n",
      "microscopicIDM --road-length 2000 --cars 20 --lanes 3 --step-width 0.03333333333333333 --integration-steps 24000 --output-csv /tmp/IDM/2000_20_3_0.03333333333333333_24000.csv\n",
      "microscopicIDM --road-length 2000 --cars 30 --lanes 3 --step-width 0.03333333333333333 --integration-steps 24000 --output-csv /tmp/IDM/2000_30_3_0.03333333333333333_24000.csv\n",
      "microscopicIDM --road-length 2000 --cars 40 --lanes 3 --step-width 0.03333333333333333 --integration-steps 24000 --output-csv /tmp/IDM/2000_40_3_0.03333333333333333_24000.csv\n",
      "microscopicIDM --road-length 2000 --cars 50 --lanes 3 --step-width 0.03333333333333333 --integration-steps 24000 --output-csv /tmp/IDM/2000_50_3_0.03333333333333333_24000.csv\n",
      "microscopicIDM --road-length 2000 --cars 60 --lanes 3 --step-width 0.03333333333333333 --integration-steps 24000 --output-csv /tmp/IDM/2000_60_3_0.03333333333333333_24000.csv\n",
      "microscopicIDM --road-length 2000 --cars 70 --lanes 3 --step-width 0.03333333333333333 --integration-steps 24000 --output-csv /tmp/IDM/2000_70_3_0.03333333333333333_24000.csv\n",
      "microscopicIDM --road-length 2000 --cars 80 --lanes 3 --step-width 0.03333333333333333 --integration-steps 24000 --output-csv /tmp/IDM/2000_80_3_0.03333333333333333_24000.csv\n",
      "microscopicIDM --road-length 2000 --cars 90 --lanes 3 --step-width 0.03333333333333333 --integration-steps 24000 --output-csv /tmp/IDM/2000_90_3_0.03333333333333333_24000.csv\n",
      "microscopicIDM --road-length 2000 --cars 100 --lanes 3 --step-width 0.03333333333333333 --integration-steps 24000 --output-csv /tmp/IDM/2000_100_3_0.03333333333333333_24000.csv\n",
      "microscopicIDM --road-length 2000 --cars 110 --lanes 3 --step-width 0.03333333333333333 --integration-steps 24000 --output-csv /tmp/IDM/2000_110_3_0.03333333333333333_24000.csv\n",
      "microscopicIDM --road-length 2000 --cars 120 --lanes 3 --step-width 0.03333333333333333 --integration-steps 24000 --output-csv /tmp/IDM/2000_120_3_0.03333333333333333_24000.csv\n",
      "microscopicIDM --road-length 2000 --cars 130 --lanes 3 --step-width 0.03333333333333333 --integration-steps 24000 --output-csv /tmp/IDM/2000_130_3_0.03333333333333333_24000.csv\n",
      "microscopicIDM --road-length 2000 --cars 140 --lanes 3 --step-width 0.03333333333333333 --integration-steps 24000 --output-csv /tmp/IDM/2000_140_3_0.03333333333333333_24000.csv\n",
      "microscopicIDM --road-length 2000 --cars 150 --lanes 3 --step-width 0.03333333333333333 --integration-steps 24000 --output-csv /tmp/IDM/2000_150_3_0.03333333333333333_24000.csv\n"
     ]
    }
   ],
   "source": [
    "car_num = [10,20,30,40,50,60,70,80,90,100,110,120,130,140,150]\n",
    "threads = l = [None] * len(car_num)\n",
    "average_max_velocity = np.array(car_num)\n",
    "\n",
    "def calculate_for_index(index, car_num, target):\n",
    "    target[i] =  max_ave_velocity(car_num[i])\n",
    "\n",
    "for i in range(0, len(car_num)):\n",
    "    t = threading.Thread(target=calculate_for_index, args=(i, car_num, average_max_velocity))\n",
    "    t.start()\n",
    "    threads[i] = t\n",
    "    \n",
    "for i in range(len(threads)):\n",
    "    threads[i].join()"
   ]
  }
 ],
 "metadata": {
  "kernelspec": {
   "display_name": "Python 3 (ipykernel)",
   "language": "python",
   "name": "python3"
  },
  "language_info": {
   "codemirror_mode": {
    "name": "ipython",
    "version": 3
   },
   "file_extension": ".py",
   "mimetype": "text/x-python",
   "name": "python",
   "nbconvert_exporter": "python",
   "pygments_lexer": "ipython3",
   "version": "3.10.4"
  }
 },
 "nbformat": 4,
 "nbformat_minor": 5
}
