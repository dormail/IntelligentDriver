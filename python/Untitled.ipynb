{
 "cells": [
  {
   "cell_type": "code",
   "execution_count": 1,
   "id": "d77e4ed7-b7e8-45a3-8d95-8118640d109a",
   "metadata": {
    "execution": {
     "iopub.execute_input": "2022-04-30T14:02:01.108179Z",
     "iopub.status.busy": "2022-04-30T14:02:01.107679Z",
     "iopub.status.idle": "2022-04-30T14:02:01.752328Z",
     "shell.execute_reply": "2022-04-30T14:02:01.751665Z",
     "shell.execute_reply.started": "2022-04-30T14:02:01.108029Z"
    }
   },
   "outputs": [],
   "source": [
    "from IDMInterface import IDMSimulation\n",
    "import pandas as pd\n",
    "import matplotlib.pyplot as plt\n",
    "import numpy as np"
   ]
  },
  {
   "cell_type": "code",
   "execution_count": 2,
   "id": "f12bfa71-8812-4875-b9f2-f5445628b1ef",
   "metadata": {
    "execution": {
     "iopub.execute_input": "2022-04-30T14:02:01.753600Z",
     "iopub.status.busy": "2022-04-30T14:02:01.753472Z",
     "iopub.status.idle": "2022-04-30T14:02:01.796098Z",
     "shell.execute_reply": "2022-04-30T14:02:01.795330Z",
     "shell.execute_reply.started": "2022-04-30T14:02:01.753583Z"
    }
   },
   "outputs": [],
   "source": [
    "def max_ave_velocity(cars, length=2000, lanes=3):\n",
    "    steps = 800*30\n",
    "    fn, df = IDMSimulation(road_length=length,\n",
    "                          cars=cars,\n",
    "                          lanes=3,\n",
    "                          step_width=1/30,                \n",
    "                          steps=steps)\n",
    "    \n",
    "    t = df['t']\n",
    "    velocities = np.zeros(shape=(steps, cars))\n",
    "    for car_index in range(0,cars):\n",
    "        for step in range(0, steps):\n",
    "            velocities[step, car_index] = df['v' + str(car_index)][step]\n",
    "    average_velocity = np.mean(velocities, axis=1)\n",
    "    return average_velocity.max()"
   ]
  },
  {
   "cell_type": "code",
   "execution_count": 4,
   "id": "f32cd059-3811-458b-9236-36225db9f9de",
   "metadata": {
    "execution": {
     "iopub.execute_input": "2022-04-30T14:07:33.172500Z",
     "iopub.status.busy": "2022-04-30T14:07:33.171869Z",
     "iopub.status.idle": "2022-04-30T14:07:33.179028Z",
     "shell.execute_reply": "2022-04-30T14:07:33.178133Z",
     "shell.execute_reply.started": "2022-04-30T14:07:33.172465Z"
    },
    "tags": []
   },
   "outputs": [],
   "source": [
    "from multiprocessing import Pool, Process"
   ]
  },
  {
   "cell_type": "code",
   "execution_count": 6,
   "id": "6945b382-a0f5-424c-a779-d41133147ab4",
   "metadata": {
    "execution": {
     "iopub.execute_input": "2022-04-30T14:08:34.747079Z",
     "iopub.status.busy": "2022-04-30T14:08:34.746792Z",
     "iopub.status.idle": "2022-04-30T14:09:40.517607Z",
     "shell.execute_reply": "2022-04-30T14:09:40.516807Z",
     "shell.execute_reply.started": "2022-04-30T14:08:34.747040Z"
    },
    "tags": []
   },
   "outputs": [
    {
     "name": "stdout",
     "output_type": "stream",
     "text": [
      "microscopicIDM --road-length 2000 --cars 10 --lanes 3 --step-width 0.03333333333333333 --integration-steps 24000 --output-csv /tmp/IDM/2000_10_3_0.03333333333333333_24000.csv\n",
      "microscopicIDM --road-length 2000 --cars 20 --lanes 3 --step-width 0.03333333333333333 --integration-steps 24000 --output-csv /tmp/IDM/2000_20_3_0.03333333333333333_24000.csv\n",
      "microscopicIDM --road-length 2000 --cars 30 --lanes 3 --step-width 0.03333333333333333 --integration-steps 24000 --output-csv /tmp/IDM/2000_30_3_0.03333333333333333_24000.csv\n",
      "microscopicIDM --road-length 2000 --cars 40 --lanes 3 --step-width 0.03333333333333333 --integration-steps 24000 --output-csv /tmp/IDM/2000_40_3_0.03333333333333333_24000.csv\n",
      "microscopicIDM --road-length 2000 --cars 50 --lanes 3 --step-width 0.03333333333333333 --integration-steps 24000 --output-csv /tmp/IDM/2000_50_3_0.03333333333333333_24000.csv\n",
      "microscopicIDM --road-length 2000 --cars 60 --lanes 3 --step-width 0.03333333333333333 --integration-steps 24000 --output-csv /tmp/IDM/2000_60_3_0.03333333333333333_24000.csv\n",
      "microscopicIDM --road-length 2000 --cars 70 --lanes 3 --step-width 0.03333333333333333 --integration-steps 24000 --output-csv /tmp/IDM/2000_70_3_0.03333333333333333_24000.csv\n",
      "microscopicIDM --road-length 2000 --cars 80 --lanes 3 --step-width 0.03333333333333333 --integration-steps 24000 --output-csv /tmp/IDM/2000_80_3_0.03333333333333333_24000.csv\n",
      "microscopicIDM --road-length 2000 --cars 90 --lanes 3 --step-width 0.03333333333333333 --integration-steps 24000 --output-csv /tmp/IDM/2000_90_3_0.03333333333333333_24000.csv\n",
      "microscopicIDM --road-length 2000 --cars 100 --lanes 3 --step-width 0.03333333333333333 --integration-steps 24000 --output-csv /tmp/IDM/2000_100_3_0.03333333333333333_24000.csv\n",
      "microscopicIDM --road-length 2000 --cars 110 --lanes 3 --step-width 0.03333333333333333 --integration-steps 24000 --output-csv /tmp/IDM/2000_110_3_0.03333333333333333_24000.csv\n",
      "microscopicIDM --road-length 2000 --cars 120 --lanes 3 --step-width 0.03333333333333333 --integration-steps 24000 --output-csv /tmp/IDM/2000_120_3_0.03333333333333333_24000.csv\n",
      "microscopicIDM --road-length 2000 --cars 130 --lanes 3 --step-width 0.03333333333333333 --integration-steps 24000 --output-csv /tmp/IDM/2000_130_3_0.03333333333333333_24000.csv\n",
      "microscopicIDM --road-length 2000 --cars 140 --lanes 3 --step-width 0.03333333333333333 --integration-steps 24000 --output-csv /tmp/IDM/2000_140_3_0.03333333333333333_24000.csv\n",
      "microscopicIDM --road-length 2000 --cars 150 --lanes 3 --step-width 0.03333333333333333 --integration-steps 24000 --output-csv /tmp/IDM/2000_150_3_0.03333333333333333_24000.csv\n"
     ]
    }
   ],
   "source": [
    "car_num = [10,20,30,40,50,60,70,80,90,100,110,120,130,140,150]\n",
    "processes = l = [None] * len(car_num)\n",
    "average_max_velocity = np.array(car_num)\n",
    "\n",
    "def calculate_for_index(index, car_num, target):\n",
    "    target[i] =  max_ave_velocity(car_num[i])\n",
    "\n",
    "for i in range(0, len(car_num)):\n",
    "    p = Process(target=calculate_for_index, args=(i, car_num, average_max_velocity))\n",
    "    p.start()\n",
    "    processes[i] = p\n",
    "    \n",
    "for i in range(len(processes)):\n",
    "    processes[i].join()"
   ]
  },
  {
   "cell_type": "markdown",
   "id": "db6adefa-5622-4a7d-81f0-8f25b56ec62e",
   "metadata": {},
   "source": [
    "## Concurrency using threading module"
   ]
  },
  {
   "cell_type": "code",
   "execution_count": 13,
   "id": "39d2dbf3-ed23-4d98-8018-5897ce12d7e2",
   "metadata": {
    "execution": {
     "iopub.execute_input": "2022-04-30T14:13:31.830130Z",
     "iopub.status.busy": "2022-04-30T14:13:31.829954Z",
     "iopub.status.idle": "2022-04-30T14:13:31.833456Z",
     "shell.execute_reply": "2022-04-30T14:13:31.832806Z",
     "shell.execute_reply.started": "2022-04-30T14:13:31.830110Z"
    },
    "tags": []
   },
   "outputs": [],
   "source": [
    "import threading"
   ]
  },
  {
   "cell_type": "code",
   "execution_count": 14,
   "id": "c8887943-94a1-40ac-879b-ce115f969226",
   "metadata": {
    "execution": {
     "iopub.execute_input": "2022-04-30T14:13:31.834508Z",
     "iopub.status.busy": "2022-04-30T14:13:31.834312Z",
     "iopub.status.idle": "2022-04-30T14:18:54.596332Z",
     "shell.execute_reply": "2022-04-30T14:18:54.595480Z",
     "shell.execute_reply.started": "2022-04-30T14:13:31.834485Z"
    },
    "tags": []
   },
   "outputs": [
    {
     "name": "stdout",
     "output_type": "stream",
     "text": [
      "microscopicIDM --road-length 2000 --cars 10 --lanes 3 --step-width 0.03333333333333333 --integration-steps 24000 --output-csv /tmp/IDM/2000_10_3_0.03333333333333333_24000.csv\n",
      "microscopicIDM --road-length 2000 --cars 20 --lanes 3 --step-width 0.03333333333333333 --integration-steps 24000 --output-csv /tmp/IDM/2000_20_3_0.03333333333333333_24000.csv\n",
      "microscopicIDM --road-length 2000 --cars 30 --lanes 3 --step-width 0.03333333333333333 --integration-steps 24000 --output-csv /tmp/IDM/2000_30_3_0.03333333333333333_24000.csv\n",
      "microscopicIDM --road-length 2000 --cars 40 --lanes 3 --step-width 0.03333333333333333 --integration-steps 24000 --output-csv /tmp/IDM/2000_40_3_0.03333333333333333_24000.csv\n",
      "microscopicIDM --road-length 2000 --cars 50 --lanes 3 --step-width 0.03333333333333333 --integration-steps 24000 --output-csv /tmp/IDM/2000_50_3_0.03333333333333333_24000.csv\n",
      "microscopicIDM --road-length 2000 --cars 60 --lanes 3 --step-width 0.03333333333333333 --integration-steps 24000 --output-csv /tmp/IDM/2000_60_3_0.03333333333333333_24000.csv\n",
      "microscopicIDM --road-length 2000 --cars 70 --lanes 3 --step-width 0.03333333333333333 --integration-steps 24000 --output-csv /tmp/IDM/2000_70_3_0.03333333333333333_24000.csv\n",
      "microscopicIDM --road-length 2000 --cars 80 --lanes 3 --step-width 0.03333333333333333 --integration-steps 24000 --output-csv /tmp/IDM/2000_80_3_0.03333333333333333_24000.csv\n",
      "microscopicIDM --road-length 2000 --cars 90 --lanes 3 --step-width 0.03333333333333333 --integration-steps 24000 --output-csv /tmp/IDM/2000_90_3_0.03333333333333333_24000.csv\n",
      "microscopicIDM --road-length 2000 --cars 100 --lanes 3 --step-width 0.03333333333333333 --integration-steps 24000 --output-csv /tmp/IDM/2000_100_3_0.03333333333333333_24000.csv\n",
      "microscopicIDM --road-length 2000 --cars 110 --lanes 3 --step-width 0.03333333333333333 --integration-steps 24000 --output-csv /tmp/IDM/2000_110_3_0.03333333333333333_24000.csv\n",
      "microscopicIDM --road-length 2000 --cars 120 --lanes 3 --step-width 0.03333333333333333 --integration-steps 24000 --output-csv /tmp/IDM/2000_120_3_0.03333333333333333_24000.csv\n",
      "microscopicIDM --road-length 2000 --cars 130 --lanes 3 --step-width 0.03333333333333333 --integration-steps 24000 --output-csv /tmp/IDM/2000_130_3_0.03333333333333333_24000.csv\n",
      "microscopicIDM --road-length 2000 --cars 140 --lanes 3 --step-width 0.03333333333333333 --integration-steps 24000 --output-csv /tmp/IDM/2000_140_3_0.03333333333333333_24000.csv\n",
      "microscopicIDM --road-length 2000 --cars 150 --lanes 3 --step-width 0.03333333333333333 --integration-steps 24000 --output-csv /tmp/IDM/2000_150_3_0.03333333333333333_24000.csv\n"
     ]
    }
   ],
   "source": [
    "car_num = [10,20,30,40,50,60,70,80,90,100,110,120,130,140,150]\n",
    "threads = l = [None] * len(car_num)\n",
    "average_max_velocity = np.array(car_num)\n",
    "\n",
    "def calculate_for_index(index, car_num, target):\n",
    "    target[i] =  max_ave_velocity(car_num[i])\n",
    "\n",
    "for i in range(0, len(car_num)):\n",
    "    t = threading.Thread(target=calculate_for_index, args=(i, car_num, average_max_velocity))\n",
    "    t.start()\n",
    "    threads[i] = t\n",
    "    \n",
    "for i in range(len(threads)):\n",
    "    threads[i].join()"
   ]
  },
  {
   "cell_type": "code",
   "execution_count": null,
   "id": "9804592b-21cb-46eb-9d4d-fc724aed5dcc",
   "metadata": {
    "execution": {
     "iopub.status.busy": "2022-04-30T14:05:32.598039Z",
     "iopub.status.idle": "2022-04-30T14:05:32.598550Z",
     "shell.execute_reply": "2022-04-30T14:05:32.598317Z",
     "shell.execute_reply.started": "2022-04-30T14:05:32.598292Z"
    },
    "tags": []
   },
   "outputs": [],
   "source": [
    "plt.scatter(car_num, average_max_velocity)"
   ]
  },
  {
   "cell_type": "code",
   "execution_count": null,
   "id": "9bd501ab-fede-48f7-9478-5ece7ca1fc47",
   "metadata": {
    "execution": {
     "iopub.status.busy": "2022-04-30T14:05:32.636891Z",
     "iopub.status.idle": "2022-04-30T14:05:32.663498Z",
     "shell.execute_reply": "2022-04-30T14:05:32.663186Z",
     "shell.execute_reply.started": "2022-04-30T14:05:32.663149Z"
    }
   },
   "outputs": [],
   "source": [
    "max_ave_velocity(100, length=2000, lanes=3)"
   ]
  },
  {
   "cell_type": "code",
   "execution_count": 7,
   "id": "7d46c936-adfb-4cca-86b8-f72ab5dc61f2",
   "metadata": {
    "execution": {
     "iopub.execute_input": "2022-04-30T14:10:21.354931Z",
     "iopub.status.busy": "2022-04-30T14:10:21.354124Z",
     "iopub.status.idle": "2022-04-30T14:10:44.295944Z",
     "shell.execute_reply": "2022-04-30T14:10:44.295183Z",
     "shell.execute_reply.started": "2022-04-30T14:10:21.354888Z"
    },
    "tags": []
   },
   "outputs": [
    {
     "name": "stdout",
     "output_type": "stream",
     "text": [
      "microscopicIDM --road-length 2000 --cars 100 --lanes 3 --step-width 0.03333333333333333 --integration-steps 24000 --output-csv /tmp/IDM/2000_100_3_0.03333333333333333_24000.csv\n"
     ]
    },
    {
     "data": {
      "text/plain": [
       "22.988459"
      ]
     },
     "execution_count": 7,
     "metadata": {},
     "output_type": "execute_result"
    }
   ],
   "source": [
    "#car_num = [100,110,120,130,140,150]\n",
    "max_ave_velocity(100, length=2000, lanes=3)"
   ]
  },
  {
   "cell_type": "code",
   "execution_count": 8,
   "id": "b9a71c47-fb22-4540-9648-b0e503401b4a",
   "metadata": {
    "execution": {
     "iopub.execute_input": "2022-04-30T14:10:44.296935Z",
     "iopub.status.busy": "2022-04-30T14:10:44.296827Z",
     "iopub.status.idle": "2022-04-30T14:11:10.773829Z",
     "shell.execute_reply": "2022-04-30T14:11:10.773429Z",
     "shell.execute_reply.started": "2022-04-30T14:10:44.296922Z"
    },
    "tags": []
   },
   "outputs": [
    {
     "name": "stdout",
     "output_type": "stream",
     "text": [
      "microscopicIDM --road-length 2000 --cars 110 --lanes 3 --step-width 0.03333333333333333 --integration-steps 24000 --output-csv /tmp/IDM/2000_110_3_0.03333333333333333_24000.csv\n"
     ]
    },
    {
     "data": {
      "text/plain": [
       "21.564842727272733"
      ]
     },
     "execution_count": 8,
     "metadata": {},
     "output_type": "execute_result"
    }
   ],
   "source": [
    "max_ave_velocity(110, length=2000, lanes=3)"
   ]
  },
  {
   "cell_type": "code",
   "execution_count": 9,
   "id": "92dc077d-d7e1-4ea3-9a95-dc893d78970a",
   "metadata": {
    "execution": {
     "iopub.execute_input": "2022-04-30T14:11:10.774412Z",
     "iopub.status.busy": "2022-04-30T14:11:10.774318Z",
     "iopub.status.idle": "2022-04-30T14:11:40.856533Z",
     "shell.execute_reply": "2022-04-30T14:11:40.855866Z",
     "shell.execute_reply.started": "2022-04-30T14:11:10.774399Z"
    },
    "tags": []
   },
   "outputs": [
    {
     "name": "stdout",
     "output_type": "stream",
     "text": [
      "microscopicIDM --road-length 2000 --cars 120 --lanes 3 --step-width 0.03333333333333333 --integration-steps 24000 --output-csv /tmp/IDM/2000_120_3_0.03333333333333333_24000.csv\n"
     ]
    },
    {
     "data": {
      "text/plain": [
       "20.187378333333335"
      ]
     },
     "execution_count": 9,
     "metadata": {},
     "output_type": "execute_result"
    }
   ],
   "source": [
    "max_ave_velocity(120, length=2000, lanes=3)"
   ]
  },
  {
   "cell_type": "code",
   "execution_count": 10,
   "id": "c33c1cf6-d000-42e9-8acd-ec4c86fbc3b7",
   "metadata": {
    "execution": {
     "iopub.execute_input": "2022-04-30T14:11:40.857731Z",
     "iopub.status.busy": "2022-04-30T14:11:40.857607Z",
     "iopub.status.idle": "2022-04-30T14:12:13.806485Z",
     "shell.execute_reply": "2022-04-30T14:12:13.805820Z",
     "shell.execute_reply.started": "2022-04-30T14:11:40.857717Z"
    },
    "tags": []
   },
   "outputs": [
    {
     "name": "stdout",
     "output_type": "stream",
     "text": [
      "microscopicIDM --road-length 2000 --cars 130 --lanes 3 --step-width 0.03333333333333333 --integration-steps 24000 --output-csv /tmp/IDM/2000_130_3_0.03333333333333333_24000.csv\n"
     ]
    },
    {
     "data": {
      "text/plain": [
       "18.822484615384614"
      ]
     },
     "execution_count": 10,
     "metadata": {},
     "output_type": "execute_result"
    }
   ],
   "source": [
    "max_ave_velocity(130, length=2000, lanes=3)"
   ]
  },
  {
   "cell_type": "code",
   "execution_count": 11,
   "id": "45537e77-9704-4fa8-8677-1e0d00ee8a9b",
   "metadata": {
    "execution": {
     "iopub.execute_input": "2022-04-30T14:12:13.807284Z",
     "iopub.status.busy": "2022-04-30T14:12:13.807170Z",
     "iopub.status.idle": "2022-04-30T14:12:51.141821Z",
     "shell.execute_reply": "2022-04-30T14:12:51.141184Z",
     "shell.execute_reply.started": "2022-04-30T14:12:13.807271Z"
    },
    "tags": []
   },
   "outputs": [
    {
     "name": "stdout",
     "output_type": "stream",
     "text": [
      "microscopicIDM --road-length 2000 --cars 140 --lanes 3 --step-width 0.03333333333333333 --integration-steps 24000 --output-csv /tmp/IDM/2000_140_3_0.03333333333333333_24000.csv\n"
     ]
    },
    {
     "data": {
      "text/plain": [
       "17.571262857142855"
      ]
     },
     "execution_count": 11,
     "metadata": {},
     "output_type": "execute_result"
    }
   ],
   "source": [
    "max_ave_velocity(140, length=2000, lanes=3)"
   ]
  },
  {
   "cell_type": "code",
   "execution_count": 12,
   "id": "3d22f3d4-4857-4873-9622-100d9002d417",
   "metadata": {
    "execution": {
     "iopub.execute_input": "2022-04-30T14:12:51.142782Z",
     "iopub.status.busy": "2022-04-30T14:12:51.142598Z",
     "iopub.status.idle": "2022-04-30T14:13:31.829127Z",
     "shell.execute_reply": "2022-04-30T14:13:31.828346Z",
     "shell.execute_reply.started": "2022-04-30T14:12:51.142759Z"
    },
    "tags": []
   },
   "outputs": [
    {
     "name": "stdout",
     "output_type": "stream",
     "text": [
      "microscopicIDM --road-length 2000 --cars 150 --lanes 3 --step-width 0.03333333333333333 --integration-steps 24000 --output-csv /tmp/IDM/2000_150_3_0.03333333333333333_24000.csv\n"
     ]
    },
    {
     "data": {
      "text/plain": [
       "16.36000266666667"
      ]
     },
     "execution_count": 12,
     "metadata": {},
     "output_type": "execute_result"
    }
   ],
   "source": [
    "max_ave_velocity(150, length=2000, lanes=3)"
   ]
  }
 ],
 "metadata": {
  "kernelspec": {
   "display_name": "Python 3 (ipykernel)",
   "language": "python",
   "name": "python3"
  },
  "language_info": {
   "codemirror_mode": {
    "name": "ipython",
    "version": 3
   },
   "file_extension": ".py",
   "mimetype": "text/x-python",
   "name": "python",
   "nbconvert_exporter": "python",
   "pygments_lexer": "ipython3",
   "version": "3.10.4"
  }
 },
 "nbformat": 4,
 "nbformat_minor": 5
}
