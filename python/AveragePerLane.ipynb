{
 "cells": [
  {
   "cell_type": "markdown",
   "id": "5f630994-17e5-4bb2-bd21-ee15f4c0dd41",
   "metadata": {},
   "source": [
    "# AveragePerLane.ipynb\n",
    "Measuring how fast traffic on each lane drives"
   ]
  },
  {
   "cell_type": "code",
   "execution_count": 1,
   "id": "d77e4ed7-b7e8-45a3-8d95-8118640d109a",
   "metadata": {
    "execution": {
     "iopub.execute_input": "2022-05-17T11:35:22.485613Z",
     "iopub.status.busy": "2022-05-17T11:35:22.485451Z",
     "iopub.status.idle": "2022-05-17T11:35:23.602418Z",
     "shell.execute_reply": "2022-05-17T11:35:23.601883Z",
     "shell.execute_reply.started": "2022-05-17T11:35:22.485562Z"
    },
    "tags": []
   },
   "outputs": [],
   "source": [
    "from IDMInterface import IDMSimulation\n",
    "import pandas as pd\n",
    "import matplotlib.pyplot as plt\n",
    "import numpy as np\n",
    "\n",
    "from multiprocessing import Pool, Process, Value, Array"
   ]
  },
  {
   "cell_type": "code",
   "execution_count": 2,
   "id": "f12bfa71-8812-4875-b9f2-f5445628b1ef",
   "metadata": {
    "execution": {
     "iopub.execute_input": "2022-05-17T11:35:23.603636Z",
     "iopub.status.busy": "2022-05-17T11:35:23.603533Z",
     "iopub.status.idle": "2022-05-17T11:35:23.611786Z",
     "shell.execute_reply": "2022-05-17T11:35:23.611287Z",
     "shell.execute_reply.started": "2022-05-17T11:35:23.603624Z"
    },
    "tags": []
   },
   "outputs": [],
   "source": [
    "def average_on_lane(velocities, lane_info, lane, index):\n",
    "    cars = velocities.shape[1]\n",
    "    cars_on_lane = 0\n",
    "    sum = 0\n",
    "    for car_index in range(cars):\n",
    "        if lane_info[index, car_index] == lane:\n",
    "            sum += velocities[index,car_index]\n",
    "            cars_on_lane += 1\n",
    "    if cars_on_lane == 0:\n",
    "        return 0\n",
    "    return sum / cars_on_lane\n",
    "\n",
    "def average_all_lanes(velocities,lane_info,index,lane_num=3):\n",
    "    res = []\n",
    "    for i in range(lane_num):\n",
    "        res.append(average_on_lane(velocities, lane_info, i, index))\n",
    "    res.append(np.average(velocities[index, :]))\n",
    "    return res\n",
    "\n",
    "def average_per_lane_exact(cars, length=1500, lanes=3, iterations=10, EU=False):\n",
    "    steps = 30000\n",
    "    fn, df = IDMSimulation(road_length=length,\n",
    "                          cars=cars,\n",
    "                          lanes=lanes,\n",
    "                          step_width=1/30,                \n",
    "                          steps=steps,\n",
    "                          EU=EU)\n",
    "    \n",
    "    t = np.array(df['t'])\n",
    "    locations = np.zeros(shape=(steps, cars))\n",
    "    velocities = np.zeros(shape=(steps, cars))\n",
    "    lane = np.zeros(shape=(steps, cars))\n",
    "\n",
    "    for car_index in range(0,cars):\n",
    "        for step in range(0, steps):\n",
    "            locations[step, car_index] = df['x' + str(car_index)][step]\n",
    "            velocities[step, car_index] = df['v' + str(car_index)][step]\n",
    "            lane[step, car_index] = df['l' + str(car_index)][step]\n",
    "    \n",
    "    time_measured = np.zeros(iterations)\n",
    "    result = np.zeros((iterations,lanes + 1))\n",
    "    \n",
    "    for i in range(iterations):\n",
    "        result[i, :] = average_all_lanes(velocities, lane, -1 - i * 900, lane_num=lanes)\n",
    "        time_measured[i] = t[-1 - i * 900]\n",
    "    return time_measured, result\n",
    "\n",
    "def average_per_lane(cars, length=1500, lanes=3, iterations=20, EU=False):\n",
    "    time, ave_per_lane = average_per_lane_exact(cars, length=length, lanes=lanes, iterations=iterations, EU=EU)\n",
    "    std_dev = np.std(ave_per_lane, axis=0)\n",
    "    ave_per_lane = np.average(ave_per_lane, axis=0)\n",
    "    return ave_per_lane, std_dev"
   ]
  },
  {
   "cell_type": "markdown",
   "id": "b4ea767d-de1d-4c65-a405-ea81731d73c6",
   "metadata": {},
   "source": [
    "## Creating a plot for US Law"
   ]
  },
  {
   "cell_type": "code",
   "execution_count": 3,
   "id": "31d47b8e-c2d4-43e9-984f-1166635ca5b9",
   "metadata": {
    "execution": {
     "iopub.execute_input": "2022-05-17T11:35:23.612614Z",
     "iopub.status.busy": "2022-05-17T11:35:23.612450Z",
     "iopub.status.idle": "2022-05-17T11:35:25.663545Z",
     "shell.execute_reply": "2022-05-17T11:35:25.662993Z",
     "shell.execute_reply.started": "2022-05-17T11:35:23.612601Z"
    },
    "tags": []
   },
   "outputs": [
    {
     "name": "stdout",
     "output_type": "stream",
     "text": [
      "microscopicIDM --road-length 1500 --cars 5 --lanes 3 --step-width 0.03333333333333333 --integration-steps 30000 --output-csv /tmp/IDM/1500_5_3_0.03333333333333333_30000.csv\n"
     ]
    }
   ],
   "source": [
    "lane_num = 3\n",
    "ave_per_lane, std_dev = average_per_lane(5)\n",
    "\n",
    "car_nums  = [20,25,30,35,40,45,50,55,60,70,80,90,100,110]"
   ]
  },
  {
   "cell_type": "code",
   "execution_count": 4,
   "id": "7c7eaa99-b284-4fb1-800b-52325a62023f",
   "metadata": {
    "execution": {
     "iopub.execute_input": "2022-05-17T11:35:25.664235Z",
     "iopub.status.busy": "2022-05-17T11:35:25.664145Z",
     "iopub.status.idle": "2022-05-17T11:41:54.297147Z",
     "shell.execute_reply": "2022-05-17T11:41:54.296658Z",
     "shell.execute_reply.started": "2022-05-17T11:35:25.664224Z"
    },
    "tags": []
   },
   "outputs": [],
   "source": [
    "averages = np.zeros((lane_num+1, len(car_nums)))\n",
    "stddevs = np.zeros_like(averages)\n",
    "\n",
    "for i in range(len(car_nums)):\n",
    "    ave, std = average_per_lane(car_nums[i], EU=False)\n",
    "    averages[:, i] = ave\n",
    "    stddevs[:,i] = std\n",
    "    \n",
    "plt.clf()\n",
    "\n",
    "average_desired_speed = 120 * .278\n",
    "desired_speed_width = .2 * 120 * .278\n",
    "\n",
    "# plotting averages and deviation for each lane\n",
    "plt.errorbar(car_nums, averages[0,:], xerr=1, yerr=stddevs[0,:], ls='none', label='Right lane')\n",
    "plt.errorbar(car_nums, averages[1,:], xerr=1, yerr=stddevs[1,:], ls='none', label='Middle lane')\n",
    "plt.errorbar(car_nums, averages[2,:], xerr=1, yerr=stddevs[2,:], ls='none', label='Left lane')\n",
    "\n",
    "plt.errorbar(car_nums, averages[3,:], xerr=1, yerr=stddevs[3,:], ls='none', \n",
    "             label='Average',\n",
    "            c='k')\n",
    "\n",
    "x = np.linspace(car_nums[0] - 2, car_nums[-1] + 2)\n",
    "plt.fill_between(x, average_desired_speed - desired_speed_width, average_desired_speed + desired_speed_width,\n",
    "                color='r',\n",
    "                alpha=.3,\n",
    "                label='Desired speed distribution range')\n",
    "plt.xlabel('Cars')\n",
    "plt.ylabel('Average speed / (m/s)')\n",
    "plt.tight_layout()\n",
    "plt.legend()\n",
    "\n",
    "plt.savefig('build/speed_lanes_US.pdf')\n",
    "plt.savefig('build/speed_lanes_US.png')"
   ]
  },
  {
   "cell_type": "markdown",
   "id": "8ce5c7d2-3052-4291-94b8-316686cf3212",
   "metadata": {},
   "source": [
    "## Now creating the same plot for EU"
   ]
  },
  {
   "cell_type": "code",
   "execution_count": 5,
   "id": "63497021-a364-4fb3-b946-16a2aa9664fc",
   "metadata": {
    "execution": {
     "iopub.execute_input": "2022-05-17T11:41:54.297910Z",
     "iopub.status.busy": "2022-05-17T11:41:54.297780Z",
     "iopub.status.idle": "2022-05-17T11:49:02.265182Z",
     "shell.execute_reply": "2022-05-17T11:49:02.264816Z",
     "shell.execute_reply.started": "2022-05-17T11:41:54.297897Z"
    },
    "tags": []
   },
   "outputs": [
    {
     "name": "stdout",
     "output_type": "stream",
     "text": [
      "microscopicIDM --road-length 1500 --cars 20 --lanes 3 --step-width 0.03333333333333333 --integration-steps 30000 --output-csv /tmp/IDM/1500_20_3_0.03333333333333333_30000_EU.csv --EU \n",
      "microscopicIDM --road-length 1500 --cars 25 --lanes 3 --step-width 0.03333333333333333 --integration-steps 30000 --output-csv /tmp/IDM/1500_25_3_0.03333333333333333_30000_EU.csv --EU \n",
      "microscopicIDM --road-length 1500 --cars 30 --lanes 3 --step-width 0.03333333333333333 --integration-steps 30000 --output-csv /tmp/IDM/1500_30_3_0.03333333333333333_30000_EU.csv --EU \n",
      "microscopicIDM --road-length 1500 --cars 35 --lanes 3 --step-width 0.03333333333333333 --integration-steps 30000 --output-csv /tmp/IDM/1500_35_3_0.03333333333333333_30000_EU.csv --EU \n",
      "microscopicIDM --road-length 1500 --cars 40 --lanes 3 --step-width 0.03333333333333333 --integration-steps 30000 --output-csv /tmp/IDM/1500_40_3_0.03333333333333333_30000_EU.csv --EU \n",
      "microscopicIDM --road-length 1500 --cars 45 --lanes 3 --step-width 0.03333333333333333 --integration-steps 30000 --output-csv /tmp/IDM/1500_45_3_0.03333333333333333_30000_EU.csv --EU \n",
      "microscopicIDM --road-length 1500 --cars 50 --lanes 3 --step-width 0.03333333333333333 --integration-steps 30000 --output-csv /tmp/IDM/1500_50_3_0.03333333333333333_30000_EU.csv --EU \n",
      "microscopicIDM --road-length 1500 --cars 55 --lanes 3 --step-width 0.03333333333333333 --integration-steps 30000 --output-csv /tmp/IDM/1500_55_3_0.03333333333333333_30000_EU.csv --EU \n",
      "microscopicIDM --road-length 1500 --cars 60 --lanes 3 --step-width 0.03333333333333333 --integration-steps 30000 --output-csv /tmp/IDM/1500_60_3_0.03333333333333333_30000_EU.csv --EU \n",
      "microscopicIDM --road-length 1500 --cars 70 --lanes 3 --step-width 0.03333333333333333 --integration-steps 30000 --output-csv /tmp/IDM/1500_70_3_0.03333333333333333_30000_EU.csv --EU \n",
      "microscopicIDM --road-length 1500 --cars 80 --lanes 3 --step-width 0.03333333333333333 --integration-steps 30000 --output-csv /tmp/IDM/1500_80_3_0.03333333333333333_30000_EU.csv --EU \n",
      "microscopicIDM --road-length 1500 --cars 90 --lanes 3 --step-width 0.03333333333333333 --integration-steps 30000 --output-csv /tmp/IDM/1500_90_3_0.03333333333333333_30000_EU.csv --EU \n",
      "microscopicIDM --road-length 1500 --cars 100 --lanes 3 --step-width 0.03333333333333333 --integration-steps 30000 --output-csv /tmp/IDM/1500_100_3_0.03333333333333333_30000_EU.csv --EU \n",
      "microscopicIDM --road-length 1500 --cars 110 --lanes 3 --step-width 0.03333333333333333 --integration-steps 30000 --output-csv /tmp/IDM/1500_110_3_0.03333333333333333_30000_EU.csv --EU \n"
     ]
    },
    {
     "data": {
      "image/png": "[encoded data removed]",
      "text/plain": [
       "<Figure size 432x288 with 1 Axes>"
      ]
     },
     "metadata": {
      "needs_background": "light"
     },
     "output_type": "display_data"
    }
   ],
   "source": [
    "averages = np.zeros((lane_num+1, len(car_nums)))\n",
    "stddevs = np.zeros_like(averages)\n",
    "\n",
    "for i in range(len(car_nums)):\n",
    "    ave, std = average_per_lane(car_nums[i], EU=True)\n",
    "    averages[:, i] = ave\n",
    "    stddevs[:,i] = std\n",
    "    \n",
    "plt.clf()\n",
    "# plotting averages and deviation for each lane\n",
    "plt.errorbar(car_nums, averages[0,:], xerr=1, yerr=stddevs[0,:], ls='none', label='Right lane')\n",
    "plt.errorbar(car_nums, averages[1,:], xerr=1, yerr=stddevs[1,:], ls='none', label='Middle lane')\n",
    "plt.errorbar(car_nums, averages[2,:], xerr=1, yerr=stddevs[2,:], ls='none', label='Left lane')\n",
    "\n",
    "plt.errorbar(car_nums, averages[3,:], xerr=1, yerr=stddevs[3,:], ls='none', \n",
    "             label='Average',\n",
    "            c='k')\n",
    "\n",
    "x = np.linspace(car_nums[0] - 2, car_nums[-1] + 2)\n",
    "plt.fill_between(x, average_desired_speed - desired_speed_width, average_desired_speed + desired_speed_width,\n",
    "                color='r',\n",
    "                alpha=.3,\n",
    "                label='Desired speed distribution range')\n",
    "plt.xlabel('Cars')\n",
    "plt.ylabel('Average speed / (m/s)')\n",
    "plt.tight_layout()\n",
    "plt.legend()\n",
    "\n",
    "plt.savefig('build/speed_lanes_EU.pdf')\n",
    "plt.savefig('build/speed_lanes_EU.png')"
   ]
  },
  {
   "cell_type": "code",
   "execution_count": null,
   "id": "489265d8-bda7-44a5-9e85-77cf1328bd81",
   "metadata": {},
   "outputs": [],
   "source": []
  }
 ],
 "metadata": {
  "kernelspec": {
   "display_name": "Python 3 (ipykernel)",
   "language": "python",
   "name": "python3"
  },
  "language_info": {
   "codemirror_mode": {
    "name": "ipython",
    "version": 3
   },
   "file_extension": ".py",
   "mimetype": "text/x-python",
   "name": "python",
   "nbconvert_exporter": "python",
   "pygments_lexer": "ipython3",
   "version": "3.10.4"
  }
 },
 "nbformat": 4,
 "nbformat_minor": 5
}
